{
 "cells": [
  {
   "cell_type": "markdown",
   "id": "6bac633c-5b2b-4a95-8eec-07a9cb77b733",
   "metadata": {},
   "source": [
    "# **Projet Python 2A: D’où viennent nos athlètes ?**\n",
    "\n",
    "Jules Chapon, Antoine Claisse, Côme Raj\n",
    "\n",
    "**Partie 1 : Récupération des données et premières manipulations**"
   ]
  },
  {
   "cell_type": "markdown",
   "id": "80e20959-79c0-46b7-9822-224d0837f0dd",
   "metadata": {},
   "source": [
    "On commence par importer notre base de données principale, celle contenant les différents équipements sportifs en France.\n",
    "Nous en obtenons un rapide aperçu ci-dessous.\n",
    "Nous appellerons cette base de données *equipements*."
   ]
  },
  {
   "cell_type": "code",
   "execution_count": 64,
   "id": "047db50a-8151-484a-b6d9-172afaf0b80b",
   "metadata": {},
   "outputs": [
    {
     "data": {
      "text/html": [
       "<div>\n",
       "<style scoped>\n",
       "    .dataframe tbody tr th:only-of-type {\n",
       "        vertical-align: middle;\n",
       "    }\n",
       "\n",
       "    .dataframe tbody tr th {\n",
       "        vertical-align: top;\n",
       "    }\n",
       "\n",
       "    .dataframe thead th {\n",
       "        text-align: right;\n",
       "    }\n",
       "</style>\n",
       "<table border=\"1\" class=\"dataframe\">\n",
       "  <thead>\n",
       "    <tr style=\"text-align: right;\">\n",
       "      <th></th>\n",
       "      <th>DepCode</th>\n",
       "      <th>DepLib</th>\n",
       "      <th>ComInsee</th>\n",
       "      <th>ComLib</th>\n",
       "      <th>InsNumeroInstall</th>\n",
       "      <th>InsNom</th>\n",
       "      <th>EquipementId</th>\n",
       "      <th>EquNom</th>\n",
       "      <th>EquipementTypeCode</th>\n",
       "      <th>EquipementTypeLib</th>\n",
       "      <th>...</th>\n",
       "      <th>EquUtilClub</th>\n",
       "      <th>EquUtilAutre</th>\n",
       "      <th>EquUtilIndividuel</th>\n",
       "      <th>EquUtilPerformance</th>\n",
       "      <th>EquUtilFormation</th>\n",
       "      <th>EquUtilRecreation</th>\n",
       "      <th>EquDateDernierTravauxReal</th>\n",
       "      <th>EquDateDernierTravauxAucun</th>\n",
       "      <th>EquGPSX</th>\n",
       "      <th>EquGPSY</th>\n",
       "    </tr>\n",
       "  </thead>\n",
       "  <tbody>\n",
       "    <tr>\n",
       "      <th>0</th>\n",
       "      <td>01</td>\n",
       "      <td>Ain</td>\n",
       "      <td>01001</td>\n",
       "      <td>Abergement-Clémenciat</td>\n",
       "      <td>I010010003</td>\n",
       "      <td>Salle Polyvalente - Boulodromes</td>\n",
       "      <td>E001I010010003</td>\n",
       "      <td>SALLE POLYVALENTE</td>\n",
       "      <td>2201</td>\n",
       "      <td>Salles polyvalentes / des fêtes / non spéciali...</td>\n",
       "      <td>...</td>\n",
       "      <td>1</td>\n",
       "      <td>1</td>\n",
       "      <td>1</td>\n",
       "      <td>0</td>\n",
       "      <td>0</td>\n",
       "      <td>1</td>\n",
       "      <td>NaN</td>\n",
       "      <td>1.0</td>\n",
       "      <td>4,9206</td>\n",
       "      <td>46,1531</td>\n",
       "    </tr>\n",
       "    <tr>\n",
       "      <th>1</th>\n",
       "      <td>01</td>\n",
       "      <td>Ain</td>\n",
       "      <td>01001</td>\n",
       "      <td>Abergement-Clémenciat</td>\n",
       "      <td>I010010003</td>\n",
       "      <td>Salle Polyvalente - Boulodromes</td>\n",
       "      <td>E002I010010003</td>\n",
       "      <td>BOULODROME COUVERT 8 JEUX</td>\n",
       "      <td>201</td>\n",
       "      <td>Terrain de boules</td>\n",
       "      <td>...</td>\n",
       "      <td>1</td>\n",
       "      <td>0</td>\n",
       "      <td>0</td>\n",
       "      <td>0</td>\n",
       "      <td>0</td>\n",
       "      <td>1</td>\n",
       "      <td>NaN</td>\n",
       "      <td>1.0</td>\n",
       "      <td>4,9206</td>\n",
       "      <td>46,1531</td>\n",
       "    </tr>\n",
       "    <tr>\n",
       "      <th>2</th>\n",
       "      <td>01</td>\n",
       "      <td>Ain</td>\n",
       "      <td>01001</td>\n",
       "      <td>Abergement-Clémenciat</td>\n",
       "      <td>I010010003</td>\n",
       "      <td>Salle Polyvalente - Boulodromes</td>\n",
       "      <td>E003I010010003</td>\n",
       "      <td>BOULODROME EXTERIEUR</td>\n",
       "      <td>201</td>\n",
       "      <td>Terrain de boules</td>\n",
       "      <td>...</td>\n",
       "      <td>1</td>\n",
       "      <td>0</td>\n",
       "      <td>1</td>\n",
       "      <td>0</td>\n",
       "      <td>0</td>\n",
       "      <td>1</td>\n",
       "      <td>NaN</td>\n",
       "      <td>1.0</td>\n",
       "      <td>4,9206</td>\n",
       "      <td>46,1531</td>\n",
       "    </tr>\n",
       "    <tr>\n",
       "      <th>3</th>\n",
       "      <td>01</td>\n",
       "      <td>Ain</td>\n",
       "      <td>01001</td>\n",
       "      <td>Abergement-Clémenciat</td>\n",
       "      <td>I010010004</td>\n",
       "      <td>Espace Multi-Activites</td>\n",
       "      <td>E001I010010004</td>\n",
       "      <td>Terrain de Foot de Proximité</td>\n",
       "      <td>2802</td>\n",
       "      <td>Terrain de football</td>\n",
       "      <td>...</td>\n",
       "      <td>0</td>\n",
       "      <td>0</td>\n",
       "      <td>1</td>\n",
       "      <td>0</td>\n",
       "      <td>0</td>\n",
       "      <td>1</td>\n",
       "      <td>NaN</td>\n",
       "      <td>1.0</td>\n",
       "      <td>4,9247</td>\n",
       "      <td>46,1511</td>\n",
       "    </tr>\n",
       "    <tr>\n",
       "      <th>4</th>\n",
       "      <td>01</td>\n",
       "      <td>Ain</td>\n",
       "      <td>01001</td>\n",
       "      <td>Abergement-Clémenciat</td>\n",
       "      <td>I010010004</td>\n",
       "      <td>Espace Multi-Activites</td>\n",
       "      <td>E002I010010004</td>\n",
       "      <td>AGORESPACE</td>\n",
       "      <td>1701</td>\n",
       "      <td>Plateau EPS/Multisports/city-stades</td>\n",
       "      <td>...</td>\n",
       "      <td>0</td>\n",
       "      <td>0</td>\n",
       "      <td>1</td>\n",
       "      <td>0</td>\n",
       "      <td>0</td>\n",
       "      <td>1</td>\n",
       "      <td>NaN</td>\n",
       "      <td>1.0</td>\n",
       "      <td>4,9242</td>\n",
       "      <td>46,1508</td>\n",
       "    </tr>\n",
       "  </tbody>\n",
       "</table>\n",
       "<p>5 rows × 30 columns</p>\n",
       "</div>"
      ],
      "text/plain": [
       "  DepCode DepLib ComInsee                 ComLib InsNumeroInstall  \\\n",
       "0      01    Ain    01001  Abergement-Clémenciat       I010010003   \n",
       "1      01    Ain    01001  Abergement-Clémenciat       I010010003   \n",
       "2      01    Ain    01001  Abergement-Clémenciat       I010010003   \n",
       "3      01    Ain    01001  Abergement-Clémenciat       I010010004   \n",
       "4      01    Ain    01001  Abergement-Clémenciat       I010010004   \n",
       "\n",
       "                            InsNom    EquipementId  \\\n",
       "0  Salle Polyvalente - Boulodromes  E001I010010003   \n",
       "1  Salle Polyvalente - Boulodromes  E002I010010003   \n",
       "2  Salle Polyvalente - Boulodromes  E003I010010003   \n",
       "3           Espace Multi-Activites  E001I010010004   \n",
       "4           Espace Multi-Activites  E002I010010004   \n",
       "\n",
       "                         EquNom  EquipementTypeCode  \\\n",
       "0             SALLE POLYVALENTE                2201   \n",
       "1     BOULODROME COUVERT 8 JEUX                 201   \n",
       "2          BOULODROME EXTERIEUR                 201   \n",
       "3  Terrain de Foot de Proximité                2802   \n",
       "4                    AGORESPACE                1701   \n",
       "\n",
       "                                   EquipementTypeLib  ... EquUtilClub  \\\n",
       "0  Salles polyvalentes / des fêtes / non spéciali...  ...           1   \n",
       "1                                  Terrain de boules  ...           1   \n",
       "2                                  Terrain de boules  ...           1   \n",
       "3                                Terrain de football  ...           0   \n",
       "4                Plateau EPS/Multisports/city-stades  ...           0   \n",
       "\n",
       "  EquUtilAutre EquUtilIndividuel EquUtilPerformance EquUtilFormation  \\\n",
       "0            1                 1                  0                0   \n",
       "1            0                 0                  0                0   \n",
       "2            0                 1                  0                0   \n",
       "3            0                 1                  0                0   \n",
       "4            0                 1                  0                0   \n",
       "\n",
       "  EquUtilRecreation  EquDateDernierTravauxReal EquDateDernierTravauxAucun  \\\n",
       "0                 1                        NaN                        1.0   \n",
       "1                 1                        NaN                        1.0   \n",
       "2                 1                        NaN                        1.0   \n",
       "3                 1                        NaN                        1.0   \n",
       "4                 1                        NaN                        1.0   \n",
       "\n",
       "  EquGPSX  EquGPSY  \n",
       "0  4,9206  46,1531  \n",
       "1  4,9206  46,1531  \n",
       "2  4,9206  46,1531  \n",
       "3  4,9247  46,1511  \n",
       "4  4,9242  46,1508  \n",
       "\n",
       "[5 rows x 30 columns]"
      ]
     },
     "execution_count": 64,
     "metadata": {},
     "output_type": "execute_result"
    }
   ],
   "source": [
    "import pandas as pd\n",
    "\n",
    "equipements = pd.read_csv(\"https://minio.lab.sspcloud.fr/juleschpn/equipments.csv\", sep=';', encoding='latin-1', low_memory=False)\n",
    "equipements.head()"
   ]
  },
  {
   "cell_type": "markdown",
   "id": "b018b29b-15df-446c-a703-dabd6f3595fb",
   "metadata": {},
   "source": [
    "Commençons par réaliser quelques statistiques descriptives, afin de vérifier si la base de données est cohérente et exhaustive."
   ]
  },
  {
   "cell_type": "code",
   "execution_count": 65,
   "id": "9794ef29-19a5-4212-871a-3b3afe00468e",
   "metadata": {},
   "outputs": [
    {
     "data": {
      "text/plain": [
       "DepCode                            318037\n",
       "DepLib                             318037\n",
       "ComInsee                           318037\n",
       "ComLib                             318037\n",
       "InsNumeroInstall                   318037\n",
       "InsNom                             315472\n",
       "EquipementId                       318037\n",
       "EquNom                             318037\n",
       "EquipementTypeCode                 318037\n",
       "EquipementTypeLib                  318037\n",
       "EquipementFamille                  318037\n",
       "EquipementCateg                    318037\n",
       "GestionTypeProprietairePrincLib    314826\n",
       "GestionTypeGestionnairePrincLib    313934\n",
       "GestionTypeProprietaireSecLib       53021\n",
       "GestionTypeGestionnaireSecLib       26242\n",
       "EquAnneeService                    202275\n",
       "NatureSolLib                       313302\n",
       "NatureLibelle                      314948\n",
       "EquUtilScolaire                    318037\n",
       "EquUtilClub                        318037\n",
       "EquUtilAutre                       318037\n",
       "EquUtilIndividuel                  318037\n",
       "EquUtilPerformance                 318037\n",
       "EquUtilFormation                   318037\n",
       "EquUtilRecreation                  318037\n",
       "EquDateDernierTravauxReal           71365\n",
       "EquDateDernierTravauxAucun         315292\n",
       "EquGPSX                            315381\n",
       "EquGPSY                            315386\n",
       "dtype: int64"
      ]
     },
     "execution_count": 65,
     "metadata": {},
     "output_type": "execute_result"
    }
   ],
   "source": [
    "equipements.count()"
   ]
  },
  {
   "cell_type": "code",
   "execution_count": 66,
   "id": "1626cfcf-bcd2-4fb6-a358-938e702b3a09",
   "metadata": {},
   "outputs": [
    {
     "data": {
      "text/plain": [
       "DepCode                               107\n",
       "DepLib                                107\n",
       "ComInsee                            28458\n",
       "ComLib                              26784\n",
       "InsNumeroInstall                   139953\n",
       "InsNom                              78767\n",
       "EquipementId                       318037\n",
       "EquNom                             114650\n",
       "EquipementTypeCode                    163\n",
       "EquipementTypeLib                     163\n",
       "EquipementFamille                      30\n",
       "EquipementCateg                         7\n",
       "GestionTypeProprietairePrincLib        12\n",
       "GestionTypeGestionnairePrincLib        12\n",
       "GestionTypeProprietaireSecLib          12\n",
       "GestionTypeGestionnaireSecLib          12\n",
       "EquAnneeService                       203\n",
       "NatureSolLib                           16\n",
       "NatureLibelle                           7\n",
       "EquUtilScolaire                         2\n",
       "EquUtilClub                             2\n",
       "EquUtilAutre                            2\n",
       "EquUtilIndividuel                       2\n",
       "EquUtilPerformance                      2\n",
       "EquUtilFormation                        2\n",
       "EquUtilRecreation                       2\n",
       "EquDateDernierTravauxReal              64\n",
       "EquDateDernierTravauxAucun              2\n",
       "EquGPSX                            220366\n",
       "EquGPSY                            210679\n",
       "dtype: int64"
      ]
     },
     "execution_count": 66,
     "metadata": {},
     "output_type": "execute_result"
    }
   ],
   "source": [
    "equipements.nunique()"
   ]
  },
  {
   "cell_type": "markdown",
   "id": "3c41714a-bf44-47af-966c-7af8b0209545",
   "metadata": {},
   "source": [
    "Nous pouvons donc voir que la base de données semble exhaustive, surtout pour les données qui nous intéressent vraiment (comme les données géographiques, les années de mise en service, le type d'infrastructure sportive...).\n",
    "Nous pouvons donc commencer à manipuler et à analyser ces données."
   ]
  },
  {
   "cell_type": "markdown",
   "id": "0310ce19-3370-4901-b2bb-2b339d6fe580",
   "metadata": {},
   "source": [
    "Dans un premier temps, nous allons étudier les équipements en fonction de leur catégorie : nous allons regrouper les équipements par sport, et voir si certaines tendances semblent se dégager, et s'il existe un équilibre entre la demande et l'offre sportive en France."
   ]
  },
  {
   "cell_type": "markdown",
   "id": "c59c8c6e-e87e-4cdd-a702-2e7263d88171",
   "metadata": {},
   "source": [
    "Pour cela, nous créons un nouveau DataFrame appelé *df1* dans lequel nous regroupons les équipements sportifs par catégorie, et nous le classons par ordre décroissant. Cela nous permet donc de voir les 10 sports ayant le plus d'équipements sportifs en France."
   ]
  },
  {
   "cell_type": "code",
   "execution_count": 67,
   "id": "382537ff-c4f2-4b62-a8d9-707b007be7de",
   "metadata": {},
   "outputs": [],
   "source": [
    "import plotly\n",
    "import plotly.express as px\n",
    "from IPython.display import HTML #pour afficher les graphs"
   ]
  },
  {
   "cell_type": "code",
   "execution_count": 68,
   "id": "e19af73e-6467-4ffb-873a-428b831b8684",
   "metadata": {},
   "outputs": [
    {
     "data": {
      "text/html": [
       "<div>\n",
       "<style scoped>\n",
       "    .dataframe tbody tr th:only-of-type {\n",
       "        vertical-align: middle;\n",
       "    }\n",
       "\n",
       "    .dataframe tbody tr th {\n",
       "        vertical-align: top;\n",
       "    }\n",
       "\n",
       "    .dataframe thead th {\n",
       "        text-align: right;\n",
       "    }\n",
       "</style>\n",
       "<table border=\"1\" class=\"dataframe\">\n",
       "  <thead>\n",
       "    <tr style=\"text-align: right;\">\n",
       "      <th></th>\n",
       "      <th>Type</th>\n",
       "      <th>Nombre</th>\n",
       "    </tr>\n",
       "  </thead>\n",
       "  <tbody>\n",
       "    <tr>\n",
       "      <th>29</th>\n",
       "      <td>Court de tennis</td>\n",
       "      <td>40146</td>\n",
       "    </tr>\n",
       "    <tr>\n",
       "      <th>139</th>\n",
       "      <td>Terrain de football</td>\n",
       "      <td>37993</td>\n",
       "    </tr>\n",
       "    <tr>\n",
       "      <th>17</th>\n",
       "      <td>Boucle de randonnée</td>\n",
       "      <td>24966</td>\n",
       "    </tr>\n",
       "    <tr>\n",
       "      <th>71</th>\n",
       "      <td>Plateau EPS/Multisports/city-stades</td>\n",
       "      <td>23531</td>\n",
       "    </tr>\n",
       "    <tr>\n",
       "      <th>149</th>\n",
       "      <td>Terrain de pétanque</td>\n",
       "      <td>21093</td>\n",
       "    </tr>\n",
       "    <tr>\n",
       "      <th>99</th>\n",
       "      <td>Salle multisports (gymnase)</td>\n",
       "      <td>18408</td>\n",
       "    </tr>\n",
       "    <tr>\n",
       "      <th>104</th>\n",
       "      <td>Salles polyvalentes / des fêtes / non spéciali...</td>\n",
       "      <td>15733</td>\n",
       "    </tr>\n",
       "    <tr>\n",
       "      <th>133</th>\n",
       "      <td>Terrain de basket-ball</td>\n",
       "      <td>8811</td>\n",
       "    </tr>\n",
       "    <tr>\n",
       "      <th>21</th>\n",
       "      <td>Carrière</td>\n",
       "      <td>7682</td>\n",
       "    </tr>\n",
       "    <tr>\n",
       "      <th>92</th>\n",
       "      <td>Salle de musculation/cardiotraining</td>\n",
       "      <td>7293</td>\n",
       "    </tr>\n",
       "  </tbody>\n",
       "</table>\n",
       "</div>"
      ],
      "text/plain": [
       "                                                  Type  Nombre\n",
       "29                                     Court de tennis   40146\n",
       "139                                Terrain de football   37993\n",
       "17                                 Boucle de randonnée   24966\n",
       "71                 Plateau EPS/Multisports/city-stades   23531\n",
       "149                                Terrain de pétanque   21093\n",
       "99                         Salle multisports (gymnase)   18408\n",
       "104  Salles polyvalentes / des fêtes / non spéciali...   15733\n",
       "133                             Terrain de basket-ball    8811\n",
       "21                                            Carrière    7682\n",
       "92                 Salle de musculation/cardiotraining    7293"
      ]
     },
     "execution_count": 68,
     "metadata": {},
     "output_type": "execute_result"
    }
   ],
   "source": [
    "## Graphique 1 : Les 10 sports \n",
    "df1 = equipements.groupby('EquipementTypeLib')['DepCode'].count()\n",
    "df1=df1.reset_index()\n",
    "df1=df1.rename(columns={'EquipementTypeLib':'Type','DepCode':'Nombre'})\n",
    "df1.sort_values('Nombre', ascending=False).head(10)"
   ]
  },
  {
   "cell_type": "markdown",
   "id": "450e89e6-2377-40b1-bd45-0cec5c0f9350",
   "metadata": {},
   "source": [
    "Afin de rendre cela plus visible, nous réalisons un diagramme en bâtons représentant les 10 sports ayant le plus d'équipements sportifs en France."
   ]
  },
  {
   "cell_type": "code",
   "execution_count": 69,
   "id": "30b20e7a-0c79-47ca-82f5-d225666b37eb",
   "metadata": {},
   "outputs": [
    {
     "data": {
      "application/vnd.plotly.v1+json": {
       "config": {
        "plotlyServerURL": "https://plot.ly"
       },
       "data": [
        {
         "alignmentgroup": "True",
         "hovertemplate": "Nombre=%{x}<br>Type=%{y}<extra></extra>",
         "legendgroup": "",
         "marker": {
          "color": "red",
          "pattern": {
           "shape": ""
          }
         },
         "name": "",
         "offsetgroup": "",
         "orientation": "h",
         "showlegend": false,
         "textposition": "auto",
         "type": "bar",
         "x": [
          7293,
          7682,
          8811,
          15733,
          18408,
          21093,
          23531,
          24966,
          37993,
          40146
         ],
         "xaxis": "x",
         "y": [
          "Salle de musculation/cardiotraining",
          "Carrière",
          "Terrain de basket-ball",
          "Salles polyvalentes / des fêtes / non spécialisées",
          "Salle multisports (gymnase)",
          "Terrain de pétanque",
          "Plateau EPS/Multisports/city-stades",
          "Boucle de randonnée",
          "Terrain de football",
          "Court de tennis"
         ],
         "yaxis": "y"
        }
       ],
       "layout": {
        "autosize": true,
        "barmode": "relative",
        "legend": {
         "tracegroupgap": 0
        },
        "margin": {
         "t": 60
        },
        "template": {
         "data": {
          "bar": [
           {
            "error_x": {
             "color": "#2a3f5f"
            },
            "error_y": {
             "color": "#2a3f5f"
            },
            "marker": {
             "line": {
              "color": "white",
              "width": 0.5
             },
             "pattern": {
              "fillmode": "overlay",
              "size": 10,
              "solidity": 0.2
             }
            },
            "type": "bar"
           }
          ],
          "barpolar": [
           {
            "marker": {
             "line": {
              "color": "white",
              "width": 0.5
             },
             "pattern": {
              "fillmode": "overlay",
              "size": 10,
              "solidity": 0.2
             }
            },
            "type": "barpolar"
           }
          ],
          "carpet": [
           {
            "aaxis": {
             "endlinecolor": "#2a3f5f",
             "gridcolor": "#C8D4E3",
             "linecolor": "#C8D4E3",
             "minorgridcolor": "#C8D4E3",
             "startlinecolor": "#2a3f5f"
            },
            "baxis": {
             "endlinecolor": "#2a3f5f",
             "gridcolor": "#C8D4E3",
             "linecolor": "#C8D4E3",
             "minorgridcolor": "#C8D4E3",
             "startlinecolor": "#2a3f5f"
            },
            "type": "carpet"
           }
          ],
          "choropleth": [
           {
            "colorbar": {
             "outlinewidth": 0,
             "ticks": ""
            },
            "type": "choropleth"
           }
          ],
          "contour": [
           {
            "colorbar": {
             "outlinewidth": 0,
             "ticks": ""
            },
            "colorscale": [
             [
              0,
              "#0d0887"
             ],
             [
              0.1111111111111111,
              "#46039f"
             ],
             [
              0.2222222222222222,
              "#7201a8"
             ],
             [
              0.3333333333333333,
              "#9c179e"
             ],
             [
              0.4444444444444444,
              "#bd3786"
             ],
             [
              0.5555555555555556,
              "#d8576b"
             ],
             [
              0.6666666666666666,
              "#ed7953"
             ],
             [
              0.7777777777777778,
              "#fb9f3a"
             ],
             [
              0.8888888888888888,
              "#fdca26"
             ],
             [
              1,
              "#f0f921"
             ]
            ],
            "type": "contour"
           }
          ],
          "contourcarpet": [
           {
            "colorbar": {
             "outlinewidth": 0,
             "ticks": ""
            },
            "type": "contourcarpet"
           }
          ],
          "heatmap": [
           {
            "colorbar": {
             "outlinewidth": 0,
             "ticks": ""
            },
            "colorscale": [
             [
              0,
              "#0d0887"
             ],
             [
              0.1111111111111111,
              "#46039f"
             ],
             [
              0.2222222222222222,
              "#7201a8"
             ],
             [
              0.3333333333333333,
              "#9c179e"
             ],
             [
              0.4444444444444444,
              "#bd3786"
             ],
             [
              0.5555555555555556,
              "#d8576b"
             ],
             [
              0.6666666666666666,
              "#ed7953"
             ],
             [
              0.7777777777777778,
              "#fb9f3a"
             ],
             [
              0.8888888888888888,
              "#fdca26"
             ],
             [
              1,
              "#f0f921"
             ]
            ],
            "type": "heatmap"
           }
          ],
          "heatmapgl": [
           {
            "colorbar": {
             "outlinewidth": 0,
             "ticks": ""
            },
            "colorscale": [
             [
              0,
              "#0d0887"
             ],
             [
              0.1111111111111111,
              "#46039f"
             ],
             [
              0.2222222222222222,
              "#7201a8"
             ],
             [
              0.3333333333333333,
              "#9c179e"
             ],
             [
              0.4444444444444444,
              "#bd3786"
             ],
             [
              0.5555555555555556,
              "#d8576b"
             ],
             [
              0.6666666666666666,
              "#ed7953"
             ],
             [
              0.7777777777777778,
              "#fb9f3a"
             ],
             [
              0.8888888888888888,
              "#fdca26"
             ],
             [
              1,
              "#f0f921"
             ]
            ],
            "type": "heatmapgl"
           }
          ],
          "histogram": [
           {
            "marker": {
             "pattern": {
              "fillmode": "overlay",
              "size": 10,
              "solidity": 0.2
             }
            },
            "type": "histogram"
           }
          ],
          "histogram2d": [
           {
            "colorbar": {
             "outlinewidth": 0,
             "ticks": ""
            },
            "colorscale": [
             [
              0,
              "#0d0887"
             ],
             [
              0.1111111111111111,
              "#46039f"
             ],
             [
              0.2222222222222222,
              "#7201a8"
             ],
             [
              0.3333333333333333,
              "#9c179e"
             ],
             [
              0.4444444444444444,
              "#bd3786"
             ],
             [
              0.5555555555555556,
              "#d8576b"
             ],
             [
              0.6666666666666666,
              "#ed7953"
             ],
             [
              0.7777777777777778,
              "#fb9f3a"
             ],
             [
              0.8888888888888888,
              "#fdca26"
             ],
             [
              1,
              "#f0f921"
             ]
            ],
            "type": "histogram2d"
           }
          ],
          "histogram2dcontour": [
           {
            "colorbar": {
             "outlinewidth": 0,
             "ticks": ""
            },
            "colorscale": [
             [
              0,
              "#0d0887"
             ],
             [
              0.1111111111111111,
              "#46039f"
             ],
             [
              0.2222222222222222,
              "#7201a8"
             ],
             [
              0.3333333333333333,
              "#9c179e"
             ],
             [
              0.4444444444444444,
              "#bd3786"
             ],
             [
              0.5555555555555556,
              "#d8576b"
             ],
             [
              0.6666666666666666,
              "#ed7953"
             ],
             [
              0.7777777777777778,
              "#fb9f3a"
             ],
             [
              0.8888888888888888,
              "#fdca26"
             ],
             [
              1,
              "#f0f921"
             ]
            ],
            "type": "histogram2dcontour"
           }
          ],
          "mesh3d": [
           {
            "colorbar": {
             "outlinewidth": 0,
             "ticks": ""
            },
            "type": "mesh3d"
           }
          ],
          "parcoords": [
           {
            "line": {
             "colorbar": {
              "outlinewidth": 0,
              "ticks": ""
             }
            },
            "type": "parcoords"
           }
          ],
          "pie": [
           {
            "automargin": true,
            "type": "pie"
           }
          ],
          "scatter": [
           {
            "fillpattern": {
             "fillmode": "overlay",
             "size": 10,
             "solidity": 0.2
            },
            "type": "scatter"
           }
          ],
          "scatter3d": [
           {
            "line": {
             "colorbar": {
              "outlinewidth": 0,
              "ticks": ""
             }
            },
            "marker": {
             "colorbar": {
              "outlinewidth": 0,
              "ticks": ""
             }
            },
            "type": "scatter3d"
           }
          ],
          "scattercarpet": [
           {
            "marker": {
             "colorbar": {
              "outlinewidth": 0,
              "ticks": ""
             }
            },
            "type": "scattercarpet"
           }
          ],
          "scattergeo": [
           {
            "marker": {
             "colorbar": {
              "outlinewidth": 0,
              "ticks": ""
             }
            },
            "type": "scattergeo"
           }
          ],
          "scattergl": [
           {
            "marker": {
             "colorbar": {
              "outlinewidth": 0,
              "ticks": ""
             }
            },
            "type": "scattergl"
           }
          ],
          "scattermapbox": [
           {
            "marker": {
             "colorbar": {
              "outlinewidth": 0,
              "ticks": ""
             }
            },
            "type": "scattermapbox"
           }
          ],
          "scatterpolar": [
           {
            "marker": {
             "colorbar": {
              "outlinewidth": 0,
              "ticks": ""
             }
            },
            "type": "scatterpolar"
           }
          ],
          "scatterpolargl": [
           {
            "marker": {
             "colorbar": {
              "outlinewidth": 0,
              "ticks": ""
             }
            },
            "type": "scatterpolargl"
           }
          ],
          "scatterternary": [
           {
            "marker": {
             "colorbar": {
              "outlinewidth": 0,
              "ticks": ""
             }
            },
            "type": "scatterternary"
           }
          ],
          "surface": [
           {
            "colorbar": {
             "outlinewidth": 0,
             "ticks": ""
            },
            "colorscale": [
             [
              0,
              "#0d0887"
             ],
             [
              0.1111111111111111,
              "#46039f"
             ],
             [
              0.2222222222222222,
              "#7201a8"
             ],
             [
              0.3333333333333333,
              "#9c179e"
             ],
             [
              0.4444444444444444,
              "#bd3786"
             ],
             [
              0.5555555555555556,
              "#d8576b"
             ],
             [
              0.6666666666666666,
              "#ed7953"
             ],
             [
              0.7777777777777778,
              "#fb9f3a"
             ],
             [
              0.8888888888888888,
              "#fdca26"
             ],
             [
              1,
              "#f0f921"
             ]
            ],
            "type": "surface"
           }
          ],
          "table": [
           {
            "cells": {
             "fill": {
              "color": "#EBF0F8"
             },
             "line": {
              "color": "white"
             }
            },
            "header": {
             "fill": {
              "color": "#C8D4E3"
             },
             "line": {
              "color": "white"
             }
            },
            "type": "table"
           }
          ]
         },
         "layout": {
          "annotationdefaults": {
           "arrowcolor": "#2a3f5f",
           "arrowhead": 0,
           "arrowwidth": 1
          },
          "autotypenumbers": "strict",
          "coloraxis": {
           "colorbar": {
            "outlinewidth": 0,
            "ticks": ""
           }
          },
          "colorscale": {
           "diverging": [
            [
             0,
             "#8e0152"
            ],
            [
             0.1,
             "#c51b7d"
            ],
            [
             0.2,
             "#de77ae"
            ],
            [
             0.3,
             "#f1b6da"
            ],
            [
             0.4,
             "#fde0ef"
            ],
            [
             0.5,
             "#f7f7f7"
            ],
            [
             0.6,
             "#e6f5d0"
            ],
            [
             0.7,
             "#b8e186"
            ],
            [
             0.8,
             "#7fbc41"
            ],
            [
             0.9,
             "#4d9221"
            ],
            [
             1,
             "#276419"
            ]
           ],
           "sequential": [
            [
             0,
             "#0d0887"
            ],
            [
             0.1111111111111111,
             "#46039f"
            ],
            [
             0.2222222222222222,
             "#7201a8"
            ],
            [
             0.3333333333333333,
             "#9c179e"
            ],
            [
             0.4444444444444444,
             "#bd3786"
            ],
            [
             0.5555555555555556,
             "#d8576b"
            ],
            [
             0.6666666666666666,
             "#ed7953"
            ],
            [
             0.7777777777777778,
             "#fb9f3a"
            ],
            [
             0.8888888888888888,
             "#fdca26"
            ],
            [
             1,
             "#f0f921"
            ]
           ],
           "sequentialminus": [
            [
             0,
             "#0d0887"
            ],
            [
             0.1111111111111111,
             "#46039f"
            ],
            [
             0.2222222222222222,
             "#7201a8"
            ],
            [
             0.3333333333333333,
             "#9c179e"
            ],
            [
             0.4444444444444444,
             "#bd3786"
            ],
            [
             0.5555555555555556,
             "#d8576b"
            ],
            [
             0.6666666666666666,
             "#ed7953"
            ],
            [
             0.7777777777777778,
             "#fb9f3a"
            ],
            [
             0.8888888888888888,
             "#fdca26"
            ],
            [
             1,
             "#f0f921"
            ]
           ]
          },
          "colorway": [
           "#636efa",
           "#EF553B",
           "#00cc96",
           "#ab63fa",
           "#FFA15A",
           "#19d3f3",
           "#FF6692",
           "#B6E880",
           "#FF97FF",
           "#FECB52"
          ],
          "font": {
           "color": "#2a3f5f"
          },
          "geo": {
           "bgcolor": "white",
           "lakecolor": "white",
           "landcolor": "white",
           "showlakes": true,
           "showland": true,
           "subunitcolor": "#C8D4E3"
          },
          "hoverlabel": {
           "align": "left"
          },
          "hovermode": "closest",
          "mapbox": {
           "style": "light"
          },
          "paper_bgcolor": "white",
          "plot_bgcolor": "white",
          "polar": {
           "angularaxis": {
            "gridcolor": "#EBF0F8",
            "linecolor": "#EBF0F8",
            "ticks": ""
           },
           "bgcolor": "white",
           "radialaxis": {
            "gridcolor": "#EBF0F8",
            "linecolor": "#EBF0F8",
            "ticks": ""
           }
          },
          "scene": {
           "xaxis": {
            "backgroundcolor": "white",
            "gridcolor": "#DFE8F3",
            "gridwidth": 2,
            "linecolor": "#EBF0F8",
            "showbackground": true,
            "ticks": "",
            "zerolinecolor": "#EBF0F8"
           },
           "yaxis": {
            "backgroundcolor": "white",
            "gridcolor": "#DFE8F3",
            "gridwidth": 2,
            "linecolor": "#EBF0F8",
            "showbackground": true,
            "ticks": "",
            "zerolinecolor": "#EBF0F8"
           },
           "zaxis": {
            "backgroundcolor": "white",
            "gridcolor": "#DFE8F3",
            "gridwidth": 2,
            "linecolor": "#EBF0F8",
            "showbackground": true,
            "ticks": "",
            "zerolinecolor": "#EBF0F8"
           }
          },
          "shapedefaults": {
           "line": {
            "color": "#2a3f5f"
           }
          },
          "ternary": {
           "aaxis": {
            "gridcolor": "#DFE8F3",
            "linecolor": "#A2B1C6",
            "ticks": ""
           },
           "baxis": {
            "gridcolor": "#DFE8F3",
            "linecolor": "#A2B1C6",
            "ticks": ""
           },
           "bgcolor": "white",
           "caxis": {
            "gridcolor": "#DFE8F3",
            "linecolor": "#A2B1C6",
            "ticks": ""
           }
          },
          "title": {
           "x": 0.05
          },
          "xaxis": {
           "automargin": true,
           "gridcolor": "#EBF0F8",
           "linecolor": "#EBF0F8",
           "ticks": "",
           "title": {
            "standoff": 15
           },
           "zerolinecolor": "#EBF0F8",
           "zerolinewidth": 2
          },
          "yaxis": {
           "automargin": true,
           "gridcolor": "#EBF0F8",
           "linecolor": "#EBF0F8",
           "ticks": "",
           "title": {
            "standoff": 15
           },
           "zerolinecolor": "#EBF0F8",
           "zerolinewidth": 2
          }
         }
        },
        "title": {
         "text": "Représentation de la répartition du nombre d’infrastructures sportives en fonction de la catégorie sportive"
        },
        "xaxis": {
         "anchor": "y",
         "autorange": true,
         "domain": [
          0,
          1
         ],
         "range": [
          0,
          42258.94736842105
         ],
         "title": {
          "font": {
           "color": "red"
          },
          "text": "Comptage des différents centres sportifs par type de sport"
         },
         "type": "linear"
        },
        "yaxis": {
         "anchor": "x",
         "autorange": true,
         "domain": [
          0,
          1
         ],
         "range": [
          -0.5,
          9.5
         ],
         "title": {
          "text": "Type"
         },
         "type": "category"
        }
       }
      },
      "image/png": "[encoded data removed]",
      "text/html": [
       "<div>                            <div id=\"95bb3147-b472-45ad-be3b-dd68114c6b21\" class=\"plotly-graph-div\" style=\"height:525px; width:100%;\"></div>            <script type=\"text/javascript\">                require([\"plotly\"], function(Plotly) {                    window.PLOTLYENV=window.PLOTLYENV || {};                                    if (document.getElementById(\"95bb3147-b472-45ad-be3b-dd68114c6b21\")) {                    Plotly.newPlot(                        \"95bb3147-b472-45ad-be3b-dd68114c6b21\",                        [{\"alignmentgroup\":\"True\",\"hovertemplate\":\"Nombre=%{x}<br>Type=%{y}<extra></extra>\",\"legendgroup\":\"\",\"marker\":{\"color\":\"red\",\"pattern\":{\"shape\":\"\"}},\"name\":\"\",\"offsetgroup\":\"\",\"orientation\":\"h\",\"showlegend\":false,\"textposition\":\"auto\",\"x\":[7293,7682,8811,15733,18408,21093,23531,24966,37993,40146],\"xaxis\":\"x\",\"y\":[\"Salle de musculation/cardiotraining\",\"Carri\\u00e8re\",\"Terrain de basket-ball\",\"Salles polyvalentes / des f\\u00eates / non sp\\u00e9cialis\\u00e9es\",\"Salle multisports (gymnase)\",\"Terrain de p\\u00e9tanque\",\"Plateau EPS/Multisports/city-stades\",\"Boucle de randonn\\u00e9e\",\"Terrain de football\",\"Court de tennis\"],\"yaxis\":\"y\",\"type\":\"bar\"}],                        {\"template\":{\"data\":{\"barpolar\":[{\"marker\":{\"line\":{\"color\":\"white\",\"width\":0.5},\"pattern\":{\"fillmode\":\"overlay\",\"size\":10,\"solidity\":0.2}},\"type\":\"barpolar\"}],\"bar\":[{\"error_x\":{\"color\":\"#2a3f5f\"},\"error_y\":{\"color\":\"#2a3f5f\"},\"marker\":{\"line\":{\"color\":\"white\",\"width\":0.5},\"pattern\":{\"fillmode\":\"overlay\",\"size\":10,\"solidity\":0.2}},\"type\":\"bar\"}],\"carpet\":[{\"aaxis\":{\"endlinecolor\":\"#2a3f5f\",\"gridcolor\":\"#C8D4E3\",\"linecolor\":\"#C8D4E3\",\"minorgridcolor\":\"#C8D4E3\",\"startlinecolor\":\"#2a3f5f\"},\"baxis\":{\"endlinecolor\":\"#2a3f5f\",\"gridcolor\":\"#C8D4E3\",\"linecolor\":\"#C8D4E3\",\"minorgridcolor\":\"#C8D4E3\",\"startlinecolor\":\"#2a3f5f\"},\"type\":\"carpet\"}],\"choropleth\":[{\"colorbar\":{\"outlinewidth\":0,\"ticks\":\"\"},\"type\":\"choropleth\"}],\"contourcarpet\":[{\"colorbar\":{\"outlinewidth\":0,\"ticks\":\"\"},\"type\":\"contourcarpet\"}],\"contour\":[{\"colorbar\":{\"outlinewidth\":0,\"ticks\":\"\"},\"colorscale\":[[0.0,\"#0d0887\"],[0.1111111111111111,\"#46039f\"],[0.2222222222222222,\"#7201a8\"],[0.3333333333333333,\"#9c179e\"],[0.4444444444444444,\"#bd3786\"],[0.5555555555555556,\"#d8576b\"],[0.6666666666666666,\"#ed7953\"],[0.7777777777777778,\"#fb9f3a\"],[0.8888888888888888,\"#fdca26\"],[1.0,\"#f0f921\"]],\"type\":\"contour\"}],\"heatmapgl\":[{\"colorbar\":{\"outlinewidth\":0,\"ticks\":\"\"},\"colorscale\":[[0.0,\"#0d0887\"],[0.1111111111111111,\"#46039f\"],[0.2222222222222222,\"#7201a8\"],[0.3333333333333333,\"#9c179e\"],[0.4444444444444444,\"#bd3786\"],[0.5555555555555556,\"#d8576b\"],[0.6666666666666666,\"#ed7953\"],[0.7777777777777778,\"#fb9f3a\"],[0.8888888888888888,\"#fdca26\"],[1.0,\"#f0f921\"]],\"type\":\"heatmapgl\"}],\"heatmap\":[{\"colorbar\":{\"outlinewidth\":0,\"ticks\":\"\"},\"colorscale\":[[0.0,\"#0d0887\"],[0.1111111111111111,\"#46039f\"],[0.2222222222222222,\"#7201a8\"],[0.3333333333333333,\"#9c179e\"],[0.4444444444444444,\"#bd3786\"],[0.5555555555555556,\"#d8576b\"],[0.6666666666666666,\"#ed7953\"],[0.7777777777777778,\"#fb9f3a\"],[0.8888888888888888,\"#fdca26\"],[1.0,\"#f0f921\"]],\"type\":\"heatmap\"}],\"histogram2dcontour\":[{\"colorbar\":{\"outlinewidth\":0,\"ticks\":\"\"},\"colorscale\":[[0.0,\"#0d0887\"],[0.1111111111111111,\"#46039f\"],[0.2222222222222222,\"#7201a8\"],[0.3333333333333333,\"#9c179e\"],[0.4444444444444444,\"#bd3786\"],[0.5555555555555556,\"#d8576b\"],[0.6666666666666666,\"#ed7953\"],[0.7777777777777778,\"#fb9f3a\"],[0.8888888888888888,\"#fdca26\"],[1.0,\"#f0f921\"]],\"type\":\"histogram2dcontour\"}],\"histogram2d\":[{\"colorbar\":{\"outlinewidth\":0,\"ticks\":\"\"},\"colorscale\":[[0.0,\"#0d0887\"],[0.1111111111111111,\"#46039f\"],[0.2222222222222222,\"#7201a8\"],[0.3333333333333333,\"#9c179e\"],[0.4444444444444444,\"#bd3786\"],[0.5555555555555556,\"#d8576b\"],[0.6666666666666666,\"#ed7953\"],[0.7777777777777778,\"#fb9f3a\"],[0.8888888888888888,\"#fdca26\"],[1.0,\"#f0f921\"]],\"type\":\"histogram2d\"}],\"histogram\":[{\"marker\":{\"pattern\":{\"fillmode\":\"overlay\",\"size\":10,\"solidity\":0.2}},\"type\":\"histogram\"}],\"mesh3d\":[{\"colorbar\":{\"outlinewidth\":0,\"ticks\":\"\"},\"type\":\"mesh3d\"}],\"parcoords\":[{\"line\":{\"colorbar\":{\"outlinewidth\":0,\"ticks\":\"\"}},\"type\":\"parcoords\"}],\"pie\":[{\"automargin\":true,\"type\":\"pie\"}],\"scatter3d\":[{\"line\":{\"colorbar\":{\"outlinewidth\":0,\"ticks\":\"\"}},\"marker\":{\"colorbar\":{\"outlinewidth\":0,\"ticks\":\"\"}},\"type\":\"scatter3d\"}],\"scattercarpet\":[{\"marker\":{\"colorbar\":{\"outlinewidth\":0,\"ticks\":\"\"}},\"type\":\"scattercarpet\"}],\"scattergeo\":[{\"marker\":{\"colorbar\":{\"outlinewidth\":0,\"ticks\":\"\"}},\"type\":\"scattergeo\"}],\"scattergl\":[{\"marker\":{\"colorbar\":{\"outlinewidth\":0,\"ticks\":\"\"}},\"type\":\"scattergl\"}],\"scattermapbox\":[{\"marker\":{\"colorbar\":{\"outlinewidth\":0,\"ticks\":\"\"}},\"type\":\"scattermapbox\"}],\"scatterpolargl\":[{\"marker\":{\"colorbar\":{\"outlinewidth\":0,\"ticks\":\"\"}},\"type\":\"scatterpolargl\"}],\"scatterpolar\":[{\"marker\":{\"colorbar\":{\"outlinewidth\":0,\"ticks\":\"\"}},\"type\":\"scatterpolar\"}],\"scatter\":[{\"fillpattern\":{\"fillmode\":\"overlay\",\"size\":10,\"solidity\":0.2},\"type\":\"scatter\"}],\"scatterternary\":[{\"marker\":{\"colorbar\":{\"outlinewidth\":0,\"ticks\":\"\"}},\"type\":\"scatterternary\"}],\"surface\":[{\"colorbar\":{\"outlinewidth\":0,\"ticks\":\"\"},\"colorscale\":[[0.0,\"#0d0887\"],[0.1111111111111111,\"#46039f\"],[0.2222222222222222,\"#7201a8\"],[0.3333333333333333,\"#9c179e\"],[0.4444444444444444,\"#bd3786\"],[0.5555555555555556,\"#d8576b\"],[0.6666666666666666,\"#ed7953\"],[0.7777777777777778,\"#fb9f3a\"],[0.8888888888888888,\"#fdca26\"],[1.0,\"#f0f921\"]],\"type\":\"surface\"}],\"table\":[{\"cells\":{\"fill\":{\"color\":\"#EBF0F8\"},\"line\":{\"color\":\"white\"}},\"header\":{\"fill\":{\"color\":\"#C8D4E3\"},\"line\":{\"color\":\"white\"}},\"type\":\"table\"}]},\"layout\":{\"annotationdefaults\":{\"arrowcolor\":\"#2a3f5f\",\"arrowhead\":0,\"arrowwidth\":1},\"autotypenumbers\":\"strict\",\"coloraxis\":{\"colorbar\":{\"outlinewidth\":0,\"ticks\":\"\"}},\"colorscale\":{\"diverging\":[[0,\"#8e0152\"],[0.1,\"#c51b7d\"],[0.2,\"#de77ae\"],[0.3,\"#f1b6da\"],[0.4,\"#fde0ef\"],[0.5,\"#f7f7f7\"],[0.6,\"#e6f5d0\"],[0.7,\"#b8e186\"],[0.8,\"#7fbc41\"],[0.9,\"#4d9221\"],[1,\"#276419\"]],\"sequential\":[[0.0,\"#0d0887\"],[0.1111111111111111,\"#46039f\"],[0.2222222222222222,\"#7201a8\"],[0.3333333333333333,\"#9c179e\"],[0.4444444444444444,\"#bd3786\"],[0.5555555555555556,\"#d8576b\"],[0.6666666666666666,\"#ed7953\"],[0.7777777777777778,\"#fb9f3a\"],[0.8888888888888888,\"#fdca26\"],[1.0,\"#f0f921\"]],\"sequentialminus\":[[0.0,\"#0d0887\"],[0.1111111111111111,\"#46039f\"],[0.2222222222222222,\"#7201a8\"],[0.3333333333333333,\"#9c179e\"],[0.4444444444444444,\"#bd3786\"],[0.5555555555555556,\"#d8576b\"],[0.6666666666666666,\"#ed7953\"],[0.7777777777777778,\"#fb9f3a\"],[0.8888888888888888,\"#fdca26\"],[1.0,\"#f0f921\"]]},\"colorway\":[\"#636efa\",\"#EF553B\",\"#00cc96\",\"#ab63fa\",\"#FFA15A\",\"#19d3f3\",\"#FF6692\",\"#B6E880\",\"#FF97FF\",\"#FECB52\"],\"font\":{\"color\":\"#2a3f5f\"},\"geo\":{\"bgcolor\":\"white\",\"lakecolor\":\"white\",\"landcolor\":\"white\",\"showlakes\":true,\"showland\":true,\"subunitcolor\":\"#C8D4E3\"},\"hoverlabel\":{\"align\":\"left\"},\"hovermode\":\"closest\",\"mapbox\":{\"style\":\"light\"},\"paper_bgcolor\":\"white\",\"plot_bgcolor\":\"white\",\"polar\":{\"angularaxis\":{\"gridcolor\":\"#EBF0F8\",\"linecolor\":\"#EBF0F8\",\"ticks\":\"\"},\"bgcolor\":\"white\",\"radialaxis\":{\"gridcolor\":\"#EBF0F8\",\"linecolor\":\"#EBF0F8\",\"ticks\":\"\"}},\"scene\":{\"xaxis\":{\"backgroundcolor\":\"white\",\"gridcolor\":\"#DFE8F3\",\"gridwidth\":2,\"linecolor\":\"#EBF0F8\",\"showbackground\":true,\"ticks\":\"\",\"zerolinecolor\":\"#EBF0F8\"},\"yaxis\":{\"backgroundcolor\":\"white\",\"gridcolor\":\"#DFE8F3\",\"gridwidth\":2,\"linecolor\":\"#EBF0F8\",\"showbackground\":true,\"ticks\":\"\",\"zerolinecolor\":\"#EBF0F8\"},\"zaxis\":{\"backgroundcolor\":\"white\",\"gridcolor\":\"#DFE8F3\",\"gridwidth\":2,\"linecolor\":\"#EBF0F8\",\"showbackground\":true,\"ticks\":\"\",\"zerolinecolor\":\"#EBF0F8\"}},\"shapedefaults\":{\"line\":{\"color\":\"#2a3f5f\"}},\"ternary\":{\"aaxis\":{\"gridcolor\":\"#DFE8F3\",\"linecolor\":\"#A2B1C6\",\"ticks\":\"\"},\"baxis\":{\"gridcolor\":\"#DFE8F3\",\"linecolor\":\"#A2B1C6\",\"ticks\":\"\"},\"bgcolor\":\"white\",\"caxis\":{\"gridcolor\":\"#DFE8F3\",\"linecolor\":\"#A2B1C6\",\"ticks\":\"\"}},\"title\":{\"x\":0.05},\"xaxis\":{\"automargin\":true,\"gridcolor\":\"#EBF0F8\",\"linecolor\":\"#EBF0F8\",\"ticks\":\"\",\"title\":{\"standoff\":15},\"zerolinecolor\":\"#EBF0F8\",\"zerolinewidth\":2},\"yaxis\":{\"automargin\":true,\"gridcolor\":\"#EBF0F8\",\"linecolor\":\"#EBF0F8\",\"ticks\":\"\",\"title\":{\"standoff\":15},\"zerolinecolor\":\"#EBF0F8\",\"zerolinewidth\":2}}},\"xaxis\":{\"anchor\":\"y\",\"domain\":[0.0,1.0],\"title\":{\"text\":\"Comptage des diff\\u00e9rents centres sportifs par type de sport\",\"font\":{\"color\":\"red\"}}},\"yaxis\":{\"anchor\":\"x\",\"domain\":[0.0,1.0],\"title\":{\"text\":\"Type\"}},\"legend\":{\"tracegroupgap\":0},\"margin\":{\"t\":60},\"barmode\":\"relative\",\"title\":{\"text\":\"Repr\\u00e9sentation de la r\\u00e9partition du nombre d\\u2019infrastructures sportives en fonction de la cat\\u00e9gorie sportive\"}},                        {\"responsive\": true}                    ).then(function(){\n",
       "                            \n",
       "var gd = document.getElementById('95bb3147-b472-45ad-be3b-dd68114c6b21');\n",
       "var x = new MutationObserver(function (mutations, observer) {{\n",
       "        var display = window.getComputedStyle(gd).display;\n",
       "        if (!display || display === 'none') {{\n",
       "            console.log([gd, 'removed!']);\n",
       "            Plotly.purge(gd);\n",
       "            observer.disconnect();\n",
       "        }}\n",
       "}});\n",
       "\n",
       "// Listen for the removal of the full notebook cells\n",
       "var notebookContainer = gd.closest('#notebook-container');\n",
       "if (notebookContainer) {{\n",
       "    x.observe(notebookContainer, {childList: true});\n",
       "}}\n",
       "\n",
       "// Listen for the clearing of the current output cell\n",
       "var outputEl = gd.closest('.output');\n",
       "if (outputEl) {{\n",
       "    x.observe(outputEl, {childList: true});\n",
       "}}\n",
       "\n",
       "                        })                };                });            </script>        </div>"
      ]
     },
     "metadata": {},
     "output_type": "display_data"
    }
   ],
   "source": [
    "# 1. Diagramme en bâtons\n",
    "fig = px.bar(df1.sort_values('Nombre', ascending=False).head(10).sort_values('Nombre', ascending=True), orientation='h', x='Nombre',\n",
    "             y='Type', color_discrete_sequence=[\"red\"], template=\"plotly_white\")\n",
    "\n",
    "fig.update_layout(\n",
    "    title='Représentation de la répartition du nombre d’infrastructures sportives en fonction de la catégorie sportive',\n",
    "    xaxis_title='Comptage des différents centres sportifs par type de sport')\n",
    "fig.update_xaxes(title_font=dict(color='red'))"
   ]
  },
  {
   "cell_type": "code",
   "execution_count": null,
   "id": "ed49d4aa-4121-4953-a52b-4476a6a429d6",
   "metadata": {},
   "outputs": [],
   "source": []
  },
  {
   "cell_type": "code",
   "execution_count": null,
   "id": "82335727-46c6-47d3-9001-699473529aa8",
   "metadata": {},
   "outputs": [],
   "source": []
  },
  {
   "cell_type": "markdown",
   "id": "88b47e56-8d2d-4ffa-bd57-96b334d36037",
   "metadata": {},
   "source": [
    "Pour cela, nous allons modifier la base de données originelle, *equipements*, afin de regrouper le nombre d'équipements sportifs par département. Pour cela, nous créons un nouveau DataFrame que nous appellerons *equipements_departements*. Nous enlevons aussi la plupart des colonnes qui ne nous servent, dans un premier temps, à rien.\n",
    "Afin de faciliter nos futurs graphiques, nous nous intéressons ici seulement au départements de France métropolitaine."
   ]
  },
  {
   "cell_type": "code",
   "execution_count": 70,
   "id": "a4598548-36cd-4a4c-aeb7-eb6636df7a01",
   "metadata": {},
   "outputs": [
    {
     "data": {
      "text/html": [
       "<div>\n",
       "<style scoped>\n",
       "    .dataframe tbody tr th:only-of-type {\n",
       "        vertical-align: middle;\n",
       "    }\n",
       "\n",
       "    .dataframe tbody tr th {\n",
       "        vertical-align: top;\n",
       "    }\n",
       "\n",
       "    .dataframe thead th {\n",
       "        text-align: right;\n",
       "    }\n",
       "</style>\n",
       "<table border=\"1\" class=\"dataframe\">\n",
       "  <thead>\n",
       "    <tr style=\"text-align: right;\">\n",
       "      <th></th>\n",
       "      <th>NbreEquipements</th>\n",
       "    </tr>\n",
       "    <tr>\n",
       "      <th>DepCode</th>\n",
       "      <th></th>\n",
       "    </tr>\n",
       "  </thead>\n",
       "  <tbody>\n",
       "    <tr>\n",
       "      <th>01</th>\n",
       "      <td>3781</td>\n",
       "    </tr>\n",
       "    <tr>\n",
       "      <th>02</th>\n",
       "      <td>3442</td>\n",
       "    </tr>\n",
       "    <tr>\n",
       "      <th>03</th>\n",
       "      <td>2514</td>\n",
       "    </tr>\n",
       "    <tr>\n",
       "      <th>04</th>\n",
       "      <td>1649</td>\n",
       "    </tr>\n",
       "    <tr>\n",
       "      <th>05</th>\n",
       "      <td>3075</td>\n",
       "    </tr>\n",
       "  </tbody>\n",
       "</table>\n",
       "</div>"
      ],
      "text/plain": [
       "         NbreEquipements\n",
       "DepCode                 \n",
       "01                  3781\n",
       "02                  3442\n",
       "03                  2514\n",
       "04                  1649\n",
       "05                  3075"
      ]
     },
     "execution_count": 70,
     "metadata": {},
     "output_type": "execute_result"
    }
   ],
   "source": [
    "equipements_departements = pd.DataFrame(equipements.groupby('DepCode')['EquipementId'].count()).head(96)\n",
    "equipements_departements = equipements_departements.rename({\"EquipementId\":\"NbreEquipements\"}, axis=1)\n",
    "equipements_departements.head()"
   ]
  },
  {
   "cell_type": "markdown",
   "id": "41686e22-d109-4496-b76a-16d217c47825",
   "metadata": {},
   "source": [
    "Nous pouvons désormais nous intéresser davantage aux statistiques descriptives du DataFrame *equipements_departements*."
   ]
  },
  {
   "cell_type": "code",
   "execution_count": 71,
   "id": "8ac44edf-3055-480e-9b20-241698b29de2",
   "metadata": {},
   "outputs": [
    {
     "data": {
      "text/html": [
       "<div>\n",
       "<style scoped>\n",
       "    .dataframe tbody tr th:only-of-type {\n",
       "        vertical-align: middle;\n",
       "    }\n",
       "\n",
       "    .dataframe tbody tr th {\n",
       "        vertical-align: top;\n",
       "    }\n",
       "\n",
       "    .dataframe thead th {\n",
       "        text-align: right;\n",
       "    }\n",
       "</style>\n",
       "<table border=\"1\" class=\"dataframe\">\n",
       "  <thead>\n",
       "    <tr style=\"text-align: right;\">\n",
       "      <th></th>\n",
       "      <th>NbreEquipements</th>\n",
       "    </tr>\n",
       "  </thead>\n",
       "  <tbody>\n",
       "    <tr>\n",
       "      <th>count</th>\n",
       "      <td>96.000000</td>\n",
       "    </tr>\n",
       "    <tr>\n",
       "      <th>mean</th>\n",
       "      <td>3223.666667</td>\n",
       "    </tr>\n",
       "    <tr>\n",
       "      <th>std</th>\n",
       "      <td>1553.506259</td>\n",
       "    </tr>\n",
       "    <tr>\n",
       "      <th>min</th>\n",
       "      <td>512.000000</td>\n",
       "    </tr>\n",
       "    <tr>\n",
       "      <th>25%</th>\n",
       "      <td>2036.000000</td>\n",
       "    </tr>\n",
       "    <tr>\n",
       "      <th>50%</th>\n",
       "      <td>2918.500000</td>\n",
       "    </tr>\n",
       "    <tr>\n",
       "      <th>75%</th>\n",
       "      <td>3939.500000</td>\n",
       "    </tr>\n",
       "    <tr>\n",
       "      <th>max</th>\n",
       "      <td>8534.000000</td>\n",
       "    </tr>\n",
       "  </tbody>\n",
       "</table>\n",
       "</div>"
      ],
      "text/plain": [
       "       NbreEquipements\n",
       "count        96.000000\n",
       "mean       3223.666667\n",
       "std        1553.506259\n",
       "min         512.000000\n",
       "25%        2036.000000\n",
       "50%        2918.500000\n",
       "75%        3939.500000\n",
       "max        8534.000000"
      ]
     },
     "execution_count": 71,
     "metadata": {},
     "output_type": "execute_result"
    }
   ],
   "source": [
    "equipements_departements.describe()"
   ]
  },
  {
   "cell_type": "markdown",
   "id": "2183e5f3-e7c3-4f16-bd31-767aa124cbd3",
   "metadata": {},
   "source": [
    "Ainsi, on peut voir que la répartition des équipements sportifs en France est relativement hétérogène, même si une  majorité des départements semblent se situer entre 2000 et 4000 équipements sportifs.\n",
    "Néanmoins, cela paraît clairement logique, au vu des situations très différentes entre les départements, que ce soit au niveau de leur population ou de l'espace disponible."
   ]
  },
  {
   "cell_type": "markdown",
   "id": "a809067e-1202-4aa4-8692-28d04f87a52f",
   "metadata": {},
   "source": [
    "Dès lors, nous décidons d'ajouter 2 variables explicatives à la répartition des équipements sprotifs en France : la population et la superficie par département."
   ]
  },
  {
   "cell_type": "markdown",
   "id": "f5f4642c-b35a-4199-ba02-0ebc4032ac5c",
   "metadata": {},
   "source": [
    "Dans un premier temps, nous ajountons la population par département.\n",
    "Pour cela, nous importons une nouvelle base de données, disponible cette fois sur le site de l'INSEE.\n",
    "Nous pouvons obtenir un aperçu de la base de donnée susmentionnée, que nous nommons *population*."
   ]
  },
  {
   "cell_type": "code",
   "execution_count": 72,
   "id": "a9ee8092-eed4-4a40-97f0-dafe537af9dc",
   "metadata": {},
   "outputs": [
    {
     "data": {
      "text/html": [
       "<div>\n",
       "<style scoped>\n",
       "    .dataframe tbody tr th:only-of-type {\n",
       "        vertical-align: middle;\n",
       "    }\n",
       "\n",
       "    .dataframe tbody tr th {\n",
       "        vertical-align: top;\n",
       "    }\n",
       "\n",
       "    .dataframe thead th {\n",
       "        text-align: right;\n",
       "    }\n",
       "</style>\n",
       "<table border=\"1\" class=\"dataframe\">\n",
       "  <thead>\n",
       "    <tr style=\"text-align: right;\">\n",
       "      <th></th>\n",
       "      <th>CODGEO</th>\n",
       "      <th>P19_POP</th>\n",
       "      <th>P13_POP</th>\n",
       "      <th>P08_POP</th>\n",
       "      <th>D99_POP</th>\n",
       "      <th>D90_POP</th>\n",
       "      <th>D82_POP</th>\n",
       "      <th>D75_POP</th>\n",
       "      <th>D68_POP</th>\n",
       "      <th>SUPERF</th>\n",
       "      <th>...</th>\n",
       "      <th>D75_LOGVAC</th>\n",
       "      <th>D68_LOGVAC</th>\n",
       "      <th>P19_PMEN</th>\n",
       "      <th>P13_PMEN</th>\n",
       "      <th>P08_PMEN</th>\n",
       "      <th>D99_PMEN</th>\n",
       "      <th>D90_NPER_RP</th>\n",
       "      <th>D82_NPER_RP</th>\n",
       "      <th>D75_NPER_RP</th>\n",
       "      <th>D68_NPER_RP</th>\n",
       "    </tr>\n",
       "  </thead>\n",
       "  <tbody>\n",
       "    <tr>\n",
       "      <th>0</th>\n",
       "      <td>01001</td>\n",
       "      <td>779</td>\n",
       "      <td>767</td>\n",
       "      <td>791</td>\n",
       "      <td>728</td>\n",
       "      <td>579</td>\n",
       "      <td>477</td>\n",
       "      <td>368</td>\n",
       "      <td>347</td>\n",
       "      <td>15.95</td>\n",
       "      <td>...</td>\n",
       "      <td>22.0</td>\n",
       "      <td>25.0</td>\n",
       "      <td>779.000000</td>\n",
       "      <td>767.000000</td>\n",
       "      <td>791.000000</td>\n",
       "      <td>728</td>\n",
       "      <td>579</td>\n",
       "      <td>477.0</td>\n",
       "      <td>368.0</td>\n",
       "      <td>347.0</td>\n",
       "    </tr>\n",
       "    <tr>\n",
       "      <th>1</th>\n",
       "      <td>01002</td>\n",
       "      <td>256</td>\n",
       "      <td>236</td>\n",
       "      <td>194</td>\n",
       "      <td>168</td>\n",
       "      <td>159</td>\n",
       "      <td>136</td>\n",
       "      <td>106</td>\n",
       "      <td>88</td>\n",
       "      <td>9.15</td>\n",
       "      <td>...</td>\n",
       "      <td>23.0</td>\n",
       "      <td>1.0</td>\n",
       "      <td>256.000000</td>\n",
       "      <td>236.000000</td>\n",
       "      <td>194.000000</td>\n",
       "      <td>168</td>\n",
       "      <td>159</td>\n",
       "      <td>136.0</td>\n",
       "      <td>106.0</td>\n",
       "      <td>88.0</td>\n",
       "    </tr>\n",
       "    <tr>\n",
       "      <th>2</th>\n",
       "      <td>01004</td>\n",
       "      <td>14134</td>\n",
       "      <td>14359</td>\n",
       "      <td>12792</td>\n",
       "      <td>11436</td>\n",
       "      <td>10455</td>\n",
       "      <td>9737</td>\n",
       "      <td>9550</td>\n",
       "      <td>8949</td>\n",
       "      <td>24.60</td>\n",
       "      <td>...</td>\n",
       "      <td>246.0</td>\n",
       "      <td>155.0</td>\n",
       "      <td>13625.012669</td>\n",
       "      <td>13831.019385</td>\n",
       "      <td>12305.616156</td>\n",
       "      <td>11015</td>\n",
       "      <td>10092</td>\n",
       "      <td>9333.0</td>\n",
       "      <td>9164.0</td>\n",
       "      <td>8582.0</td>\n",
       "    </tr>\n",
       "    <tr>\n",
       "      <th>3</th>\n",
       "      <td>01005</td>\n",
       "      <td>1751</td>\n",
       "      <td>1635</td>\n",
       "      <td>1567</td>\n",
       "      <td>1408</td>\n",
       "      <td>1156</td>\n",
       "      <td>848</td>\n",
       "      <td>756</td>\n",
       "      <td>627</td>\n",
       "      <td>15.92</td>\n",
       "      <td>...</td>\n",
       "      <td>16.0</td>\n",
       "      <td>15.0</td>\n",
       "      <td>1751.000000</td>\n",
       "      <td>1635.000000</td>\n",
       "      <td>1567.000000</td>\n",
       "      <td>1406</td>\n",
       "      <td>1155</td>\n",
       "      <td>848.0</td>\n",
       "      <td>753.0</td>\n",
       "      <td>627.0</td>\n",
       "    </tr>\n",
       "    <tr>\n",
       "      <th>4</th>\n",
       "      <td>01006</td>\n",
       "      <td>112</td>\n",
       "      <td>108</td>\n",
       "      <td>123</td>\n",
       "      <td>86</td>\n",
       "      <td>76</td>\n",
       "      <td>65</td>\n",
       "      <td>82</td>\n",
       "      <td>108</td>\n",
       "      <td>5.88</td>\n",
       "      <td>...</td>\n",
       "      <td>13.0</td>\n",
       "      <td>8.0</td>\n",
       "      <td>112.000000</td>\n",
       "      <td>108.000000</td>\n",
       "      <td>123.000000</td>\n",
       "      <td>86</td>\n",
       "      <td>76</td>\n",
       "      <td>65.0</td>\n",
       "      <td>82.0</td>\n",
       "      <td>108.0</td>\n",
       "    </tr>\n",
       "  </tbody>\n",
       "</table>\n",
       "<p>5 rows × 64 columns</p>\n",
       "</div>"
      ],
      "text/plain": [
       "  CODGEO  P19_POP  P13_POP  P08_POP  D99_POP  D90_POP  D82_POP  D75_POP  \\\n",
       "0  01001      779      767      791      728      579      477      368   \n",
       "1  01002      256      236      194      168      159      136      106   \n",
       "2  01004    14134    14359    12792    11436    10455     9737     9550   \n",
       "3  01005     1751     1635     1567     1408     1156      848      756   \n",
       "4  01006      112      108      123       86       76       65       82   \n",
       "\n",
       "   D68_POP  SUPERF  ...  D75_LOGVAC  D68_LOGVAC      P19_PMEN      P13_PMEN  \\\n",
       "0      347   15.95  ...        22.0        25.0    779.000000    767.000000   \n",
       "1       88    9.15  ...        23.0         1.0    256.000000    236.000000   \n",
       "2     8949   24.60  ...       246.0       155.0  13625.012669  13831.019385   \n",
       "3      627   15.92  ...        16.0        15.0   1751.000000   1635.000000   \n",
       "4      108    5.88  ...        13.0         8.0    112.000000    108.000000   \n",
       "\n",
       "       P08_PMEN  D99_PMEN  D90_NPER_RP  D82_NPER_RP  D75_NPER_RP  D68_NPER_RP  \n",
       "0    791.000000       728          579        477.0        368.0        347.0  \n",
       "1    194.000000       168          159        136.0        106.0         88.0  \n",
       "2  12305.616156     11015        10092       9333.0       9164.0       8582.0  \n",
       "3   1567.000000      1406         1155        848.0        753.0        627.0  \n",
       "4    123.000000        86           76         65.0         82.0        108.0  \n",
       "\n",
       "[5 rows x 64 columns]"
      ]
     },
     "execution_count": 72,
     "metadata": {},
     "output_type": "execute_result"
    }
   ],
   "source": [
    "population = pd.read_csv(\"https://minio.lab.sspcloud.fr/juleschpn/Population2019.CSV\", sep=';', low_memory=False)\n",
    "population.head()"
   ]
  },
  {
   "cell_type": "markdown",
   "id": "42aa4bd1-3643-4d02-a2fe-2d2906b068c1",
   "metadata": {},
   "source": [
    "Là encore, nous décidons de retravailler notre base de données. Pour cela, nous nous séparons des colonnes inutiles pour ne garder que la population par ville en 2019, puis nous les regroupons par département.\n",
    "Nous obtenons ainsi le DataFrame *population_departements* dont un aperçu est disponible juste en-dessous."
   ]
  },
  {
   "cell_type": "code",
   "execution_count": 73,
   "id": "6dd3a9e1-b081-4ab7-b130-5eccccbce571",
   "metadata": {},
   "outputs": [
    {
     "data": {
      "text/html": [
       "<div>\n",
       "<style scoped>\n",
       "    .dataframe tbody tr th:only-of-type {\n",
       "        vertical-align: middle;\n",
       "    }\n",
       "\n",
       "    .dataframe tbody tr th {\n",
       "        vertical-align: top;\n",
       "    }\n",
       "\n",
       "    .dataframe thead th {\n",
       "        text-align: right;\n",
       "    }\n",
       "</style>\n",
       "<table border=\"1\" class=\"dataframe\">\n",
       "  <thead>\n",
       "    <tr style=\"text-align: right;\">\n",
       "      <th></th>\n",
       "      <th>Population</th>\n",
       "    </tr>\n",
       "    <tr>\n",
       "      <th>DepCode</th>\n",
       "      <th></th>\n",
       "    </tr>\n",
       "  </thead>\n",
       "  <tbody>\n",
       "    <tr>\n",
       "      <th>01</th>\n",
       "      <td>652432</td>\n",
       "    </tr>\n",
       "    <tr>\n",
       "      <th>02</th>\n",
       "      <td>531345</td>\n",
       "    </tr>\n",
       "    <tr>\n",
       "      <th>03</th>\n",
       "      <td>335975</td>\n",
       "    </tr>\n",
       "    <tr>\n",
       "      <th>04</th>\n",
       "      <td>164308</td>\n",
       "    </tr>\n",
       "    <tr>\n",
       "      <th>05</th>\n",
       "      <td>141220</td>\n",
       "    </tr>\n",
       "  </tbody>\n",
       "</table>\n",
       "</div>"
      ],
      "text/plain": [
       "         Population\n",
       "DepCode            \n",
       "01           652432\n",
       "02           531345\n",
       "03           335975\n",
       "04           164308\n",
       "05           141220"
      ]
     },
     "execution_count": 73,
     "metadata": {},
     "output_type": "execute_result"
    }
   ],
   "source": [
    "population['DepCode'] = population['CODGEO'].str[:2]\n",
    "\n",
    "population_departements = pd.DataFrame(population.groupby('DepCode')['P19_POP'].sum()).head(96)\n",
    "population_departements = population_departements.rename({\"P19_POP\":\"Population\"}, axis=1)\n",
    "population_departements.head()                                                        "
   ]
  },
  {
   "cell_type": "markdown",
   "id": "ca461390-0333-475a-8cb1-c79b115a10ba",
   "metadata": {},
   "source": [
    "Afin de faciliter nos futures manipulations, nous commençons par concaténer nos DataFrames en un seul, que nous nommons *data_base*."
   ]
  },
  {
   "cell_type": "code",
   "execution_count": 74,
   "id": "abe11fd8-3c5f-49a5-8aba-d28541979b3e",
   "metadata": {},
   "outputs": [
    {
     "data": {
      "text/html": [
       "<div>\n",
       "<style scoped>\n",
       "    .dataframe tbody tr th:only-of-type {\n",
       "        vertical-align: middle;\n",
       "    }\n",
       "\n",
       "    .dataframe tbody tr th {\n",
       "        vertical-align: top;\n",
       "    }\n",
       "\n",
       "    .dataframe thead th {\n",
       "        text-align: right;\n",
       "    }\n",
       "</style>\n",
       "<table border=\"1\" class=\"dataframe\">\n",
       "  <thead>\n",
       "    <tr style=\"text-align: right;\">\n",
       "      <th></th>\n",
       "      <th>NbreEquipements</th>\n",
       "      <th>Population</th>\n",
       "    </tr>\n",
       "    <tr>\n",
       "      <th>DepCode</th>\n",
       "      <th></th>\n",
       "      <th></th>\n",
       "    </tr>\n",
       "  </thead>\n",
       "  <tbody>\n",
       "    <tr>\n",
       "      <th>01</th>\n",
       "      <td>3781</td>\n",
       "      <td>652432</td>\n",
       "    </tr>\n",
       "    <tr>\n",
       "      <th>02</th>\n",
       "      <td>3442</td>\n",
       "      <td>531345</td>\n",
       "    </tr>\n",
       "    <tr>\n",
       "      <th>03</th>\n",
       "      <td>2514</td>\n",
       "      <td>335975</td>\n",
       "    </tr>\n",
       "    <tr>\n",
       "      <th>04</th>\n",
       "      <td>1649</td>\n",
       "      <td>164308</td>\n",
       "    </tr>\n",
       "    <tr>\n",
       "      <th>05</th>\n",
       "      <td>3075</td>\n",
       "      <td>141220</td>\n",
       "    </tr>\n",
       "  </tbody>\n",
       "</table>\n",
       "</div>"
      ],
      "text/plain": [
       "         NbreEquipements  Population\n",
       "DepCode                             \n",
       "01                  3781      652432\n",
       "02                  3442      531345\n",
       "03                  2514      335975\n",
       "04                  1649      164308\n",
       "05                  3075      141220"
      ]
     },
     "execution_count": 74,
     "metadata": {},
     "output_type": "execute_result"
    }
   ],
   "source": [
    "data_base = pd.concat([equipements_departements,population_departements], axis=1)\n",
    "data_base.head()"
   ]
  },
  {
   "cell_type": "markdown",
   "id": "74453501-6b6e-47be-bc57-b70762f6c0c0",
   "metadata": {},
   "source": [
    "Désormais, nous importons donc une base de données contenant la superficie de chaque département.\n",
    "N'ayant pas trouvé une telle base de données sur le site de l'INSEE, nous décidons donc de faire du \"Webscrapping\" sur la page Wikipédia traitant de la superficie des départements français disponible à l'adresse suivante : https://fr.wikipedia.org/wiki/Superficie_des_d%C3%A9partements_fran%C3%A7ais"
   ]
  },
  {
   "cell_type": "code",
   "execution_count": 75,
   "id": "aceaa041-8185-45f3-bc23-110cf438a8e8",
   "metadata": {},
   "outputs": [
    {
     "name": "stdout",
     "output_type": "stream",
     "text": [
      "Requirement already satisfied: html5lib in /opt/mamba/lib/python3.10/site-packages (1.1)\n",
      "Requirement already satisfied: webencodings in /opt/mamba/lib/python3.10/site-packages (from html5lib) (0.5.1)\n",
      "Requirement already satisfied: six>=1.9 in /opt/mamba/lib/python3.10/site-packages (from html5lib) (1.16.0)\n",
      "Requirement already satisfied: lxml in /opt/mamba/lib/python3.10/site-packages (4.9.2)\n"
     ]
    }
   ],
   "source": [
    "import urllib\n",
    "import bs4\n",
    "import pandas as pd\n",
    "from urllib import request\n",
    "!pip install html5lib\n",
    "!pip install lxml"
   ]
  },
  {
   "cell_type": "code",
   "execution_count": 76,
   "id": "3fe0eadd-2fa2-4a6a-98ba-2ddb3f7d4f29",
   "metadata": {},
   "outputs": [],
   "source": [
    "# Etape 1 : se connecter à la page wikipedia et obtenir le code source\n",
    "\n",
    "url_ligue_1 = \"https://fr.wikipedia.org/wiki/Superficie_des_d%C3%A9partements_fran%C3%A7ais\"\n",
    "    \n",
    "request_text = request.urlopen(url_ligue_1).read()\n",
    "# print(request_text[:1000])    "
   ]
  },
  {
   "cell_type": "code",
   "execution_count": null,
   "id": "88aaa74c-ee2d-4f46-af86-94a9cd659eb7",
   "metadata": {},
   "outputs": [],
   "source": [
    "# Etape 2 : utiliser le package BeautifulSoup\n",
    "# qui \"comprend\" les balises contenues dans la chaine de caractères renvoyée par la fonction request\n",
    "\n",
    "page = bs4.BeautifulSoup(request_text, \"html.parser\") # Solution trouvée sur cette page \"https://stackoverflow.com/questions/24398302/bs4-featurenotfound-couldnt-find-a-tree-builder-with-the-features-you-requeste\"\n",
    "\n",
    "print(page)"
   ]
  },
  {
   "cell_type": "code",
   "execution_count": null,
   "id": "fe3c0303-e4e0-43a5-ba92-aa48b52f4d36",
   "metadata": {},
   "outputs": [],
   "source": [
    "# on identifie le tableau en question : c'est le premier qui a cette classe \"wikitable sortable\"\n",
    "tableau_superficie = page.find('table', {'class' : 'wikitable sortable'})\n",
    "print(tableau_superficie)"
   ]
  },
  {
   "cell_type": "code",
   "execution_count": 103,
   "id": "8a95e0ff-e6dd-4393-95ae-49e33774b498",
   "metadata": {},
   "outputs": [],
   "source": [
    "table_body = tableau_superficie.find('tbody')\n",
    "rows = table_body.find_all('tr')"
   ]
  },
  {
   "cell_type": "code",
   "execution_count": 104,
   "id": "da09cc4e-6c00-4cb2-908d-0801ccff0a26",
   "metadata": {},
   "outputs": [
    {
     "name": "stdout",
     "output_type": "stream",
     "text": [
      "<td rowspan=\"4\">01</td>\n",
      "01\n"
     ]
    }
   ],
   "source": [
    "cols = rows[5].find_all('td')\n",
    "print(cols[0])\n",
    "print(cols[0].text.strip())"
   ]
  },
  {
   "cell_type": "code",
   "execution_count": 81,
   "id": "19f1ee22-d890-42c0-912a-ec976656b70d",
   "metadata": {},
   "outputs": [
    {
     "name": "stdout",
     "output_type": "stream",
     "text": [
      "01\n",
      "Ain\n",
      "Belley\n",
      "1 311,66\n",
      "5825,6\n",
      "BelleyBourg-en-BresseGexNantua\n",
      "5 762[Insee 1]\n",
      "5 785,2[Brgm 1]\n",
      "\n"
     ]
    }
   ],
   "source": [
    "for ele in cols : \n",
    "    print(ele.text.strip())"
   ]
  },
  {
   "cell_type": "code",
   "execution_count": null,
   "id": "9bbd7d8e-c4e9-467a-8d58-220157199f50",
   "metadata": {},
   "outputs": [],
   "source": [
    "for row in rows:\n",
    "    cols = row.find_all('td')\n",
    "    cols = [ele.text.strip() for ele in cols]\n",
    "    print(cols)"
   ]
  },
  {
   "cell_type": "code",
   "execution_count": null,
   "id": "db06c43f-96f6-423c-a133-0b7e7011b891",
   "metadata": {},
   "outputs": [],
   "source": [
    "dico_superficie = dict()\n",
    "for row in rows:\n",
    "    cols = row.find_all('td')\n",
    "    cols = [ele.text.strip() for ele in cols]\n",
    "    if len(cols) > 0 : \n",
    "        dico_superficie[cols[0]] = cols[1:]\n",
    "dico_superficie"
   ]
  },
  {
   "cell_type": "code",
   "execution_count": 87,
   "id": "df19c0fe-82b7-4c45-9c3d-43a60cff1690",
   "metadata": {},
   "outputs": [
    {
     "data": {
      "text/html": [
       "<div>\n",
       "<style scoped>\n",
       "    .dataframe tbody tr th:only-of-type {\n",
       "        vertical-align: middle;\n",
       "    }\n",
       "\n",
       "    .dataframe tbody tr th {\n",
       "        vertical-align: top;\n",
       "    }\n",
       "\n",
       "    .dataframe thead th {\n",
       "        text-align: right;\n",
       "    }\n",
       "</style>\n",
       "<table border=\"1\" class=\"dataframe\">\n",
       "  <thead>\n",
       "    <tr style=\"text-align: right;\">\n",
       "      <th></th>\n",
       "      <th>0</th>\n",
       "      <th>1</th>\n",
       "      <th>2</th>\n",
       "      <th>3</th>\n",
       "      <th>4</th>\n",
       "      <th>5</th>\n",
       "      <th>6</th>\n",
       "      <th>7</th>\n",
       "    </tr>\n",
       "  </thead>\n",
       "  <tbody>\n",
       "    <tr>\n",
       "      <th>Total France métropolitaine</th>\n",
       "      <td></td>\n",
       "      <td></td>\n",
       "      <td>551 695,42</td>\n",
       "      <td></td>\n",
       "      <td>543 940</td>\n",
       "      <td>550 232,88</td>\n",
       "      <td></td>\n",
       "      <td>None</td>\n",
       "    </tr>\n",
       "    <tr>\n",
       "      <th>01</th>\n",
       "      <td>Ain</td>\n",
       "      <td>Belley</td>\n",
       "      <td>1 311,66</td>\n",
       "      <td>5825,6</td>\n",
       "      <td>BelleyBourg-en-BresseGexNantua</td>\n",
       "      <td>5 762[Insee 1]</td>\n",
       "      <td>5 785,2[Brgm 1]</td>\n",
       "      <td></td>\n",
       "    </tr>\n",
       "    <tr>\n",
       "      <th>Bourg-en-Bresse</th>\n",
       "      <td>3 173,75</td>\n",
       "      <td>None</td>\n",
       "      <td>None</td>\n",
       "      <td>None</td>\n",
       "      <td>None</td>\n",
       "      <td>None</td>\n",
       "      <td>None</td>\n",
       "      <td>None</td>\n",
       "    </tr>\n",
       "    <tr>\n",
       "      <th>Gex</th>\n",
       "      <td>412,58</td>\n",
       "      <td>None</td>\n",
       "      <td>None</td>\n",
       "      <td>None</td>\n",
       "      <td>None</td>\n",
       "      <td>None</td>\n",
       "      <td>None</td>\n",
       "      <td>None</td>\n",
       "    </tr>\n",
       "    <tr>\n",
       "      <th>Nantua</th>\n",
       "      <td>927,61</td>\n",
       "      <td>None</td>\n",
       "      <td>None</td>\n",
       "      <td>None</td>\n",
       "      <td>None</td>\n",
       "      <td>None</td>\n",
       "      <td>None</td>\n",
       "      <td>None</td>\n",
       "    </tr>\n",
       "  </tbody>\n",
       "</table>\n",
       "</div>"
      ],
      "text/plain": [
       "                                    0       1           2       3  \\\n",
       "Total France métropolitaine                    551 695,42           \n",
       "01                                Ain  Belley    1 311,66  5825,6   \n",
       "Bourg-en-Bresse              3 173,75    None        None    None   \n",
       "Gex                            412,58    None        None    None   \n",
       "Nantua                         927,61    None        None    None   \n",
       "\n",
       "                                                          4               5  \\\n",
       "Total France métropolitaine                         543 940      550 232,88   \n",
       "01                           BelleyBourg-en-BresseGexNantua  5 762[Insee 1]   \n",
       "Bourg-en-Bresse                                        None            None   \n",
       "Gex                                                    None            None   \n",
       "Nantua                                                 None            None   \n",
       "\n",
       "                                           6     7  \n",
       "Total France métropolitaine                   None  \n",
       "01                           5 785,2[Brgm 1]        \n",
       "Bourg-en-Bresse                         None  None  \n",
       "Gex                                     None  None  \n",
       "Nantua                                  None  None  "
      ]
     },
     "execution_count": 87,
     "metadata": {},
     "output_type": "execute_result"
    }
   ],
   "source": [
    "data_superficie = pd.DataFrame.from_dict(dico_superficie,orient='index')\n",
    "data_superficie.head()"
   ]
  },
  {
   "cell_type": "code",
   "execution_count": 88,
   "id": "323421f1-6882-4a2c-b530-31762e0c5d71",
   "metadata": {},
   "outputs": [
    {
     "data": {
      "text/html": [
       "<div>\n",
       "<style scoped>\n",
       "    .dataframe tbody tr th:only-of-type {\n",
       "        vertical-align: middle;\n",
       "    }\n",
       "\n",
       "    .dataframe tbody tr th {\n",
       "        vertical-align: top;\n",
       "    }\n",
       "\n",
       "    .dataframe thead th {\n",
       "        text-align: right;\n",
       "    }\n",
       "</style>\n",
       "<table border=\"1\" class=\"dataframe\">\n",
       "  <thead>\n",
       "    <tr style=\"text-align: right;\">\n",
       "      <th></th>\n",
       "      <th>Département</th>\n",
       "      <th>Arrondissement_1950</th>\n",
       "      <th>Superf_1950</th>\n",
       "      <th>Superficie_1950</th>\n",
       "      <th>Arrondissement_2018</th>\n",
       "      <th>Superficie_INSEE</th>\n",
       "      <th>Superficie_IGN</th>\n",
       "      <th>Localisation</th>\n",
       "    </tr>\n",
       "  </thead>\n",
       "  <tbody>\n",
       "    <tr>\n",
       "      <th>Total France métropolitaine</th>\n",
       "      <td></td>\n",
       "      <td></td>\n",
       "      <td>551 695,42</td>\n",
       "      <td></td>\n",
       "      <td>543 940</td>\n",
       "      <td>550 232,88</td>\n",
       "      <td></td>\n",
       "      <td>None</td>\n",
       "    </tr>\n",
       "    <tr>\n",
       "      <th>01</th>\n",
       "      <td>Ain</td>\n",
       "      <td>Belley</td>\n",
       "      <td>1 311,66</td>\n",
       "      <td>5825,6</td>\n",
       "      <td>BelleyBourg-en-BresseGexNantua</td>\n",
       "      <td>5 762[Insee 1]</td>\n",
       "      <td>5 785,2[Brgm 1]</td>\n",
       "      <td></td>\n",
       "    </tr>\n",
       "    <tr>\n",
       "      <th>Bourg-en-Bresse</th>\n",
       "      <td>3 173,75</td>\n",
       "      <td>None</td>\n",
       "      <td>None</td>\n",
       "      <td>None</td>\n",
       "      <td>None</td>\n",
       "      <td>None</td>\n",
       "      <td>None</td>\n",
       "      <td>None</td>\n",
       "    </tr>\n",
       "    <tr>\n",
       "      <th>Gex</th>\n",
       "      <td>412,58</td>\n",
       "      <td>None</td>\n",
       "      <td>None</td>\n",
       "      <td>None</td>\n",
       "      <td>None</td>\n",
       "      <td>None</td>\n",
       "      <td>None</td>\n",
       "      <td>None</td>\n",
       "    </tr>\n",
       "    <tr>\n",
       "      <th>Nantua</th>\n",
       "      <td>927,61</td>\n",
       "      <td>None</td>\n",
       "      <td>None</td>\n",
       "      <td>None</td>\n",
       "      <td>None</td>\n",
       "      <td>None</td>\n",
       "      <td>None</td>\n",
       "      <td>None</td>\n",
       "    </tr>\n",
       "  </tbody>\n",
       "</table>\n",
       "</div>"
      ],
      "text/plain": [
       "                            Département Arrondissement_1950 Superf_1950  \\\n",
       "Total France métropolitaine                                  551 695,42   \n",
       "01                                  Ain              Belley    1 311,66   \n",
       "Bourg-en-Bresse                3 173,75                None        None   \n",
       "Gex                              412,58                None        None   \n",
       "Nantua                           927,61                None        None   \n",
       "\n",
       "                            Superficie_1950             Arrondissement_2018  \\\n",
       "Total France métropolitaine                                         543 940   \n",
       "01                                   5825,6  BelleyBourg-en-BresseGexNantua   \n",
       "Bourg-en-Bresse                        None                            None   \n",
       "Gex                                    None                            None   \n",
       "Nantua                                 None                            None   \n",
       "\n",
       "                            Superficie_INSEE   Superficie_IGN Localisation  \n",
       "Total France métropolitaine       550 232,88                          None  \n",
       "01                            5 762[Insee 1]  5 785,2[Brgm 1]               \n",
       "Bourg-en-Bresse                         None             None         None  \n",
       "Gex                                     None             None         None  \n",
       "Nantua                                  None             None         None  "
      ]
     },
     "execution_count": 88,
     "metadata": {},
     "output_type": "execute_result"
    }
   ],
   "source": [
    "columns_departements = ['Département','Arrondissement_1950','Superf_1950','Superficie_1950','Arrondissement_2018','Superficie_INSEE','Superficie_IGN','Localisation']\n",
    "data_superficie.columns = columns_departements\n",
    "data_superficie.head()"
   ]
  },
  {
   "cell_type": "code",
   "execution_count": 89,
   "id": "fe9cb5db-eafb-497c-bd7a-aeba2e52a72f",
   "metadata": {},
   "outputs": [
    {
     "data": {
      "text/html": [
       "<div>\n",
       "<style scoped>\n",
       "    .dataframe tbody tr th:only-of-type {\n",
       "        vertical-align: middle;\n",
       "    }\n",
       "\n",
       "    .dataframe tbody tr th {\n",
       "        vertical-align: top;\n",
       "    }\n",
       "\n",
       "    .dataframe thead th {\n",
       "        text-align: right;\n",
       "    }\n",
       "</style>\n",
       "<table border=\"1\" class=\"dataframe\">\n",
       "  <thead>\n",
       "    <tr style=\"text-align: right;\">\n",
       "      <th></th>\n",
       "      <th>NbreEquipements</th>\n",
       "      <th>Population</th>\n",
       "      <th>Département</th>\n",
       "      <th>Arrondissement_1950</th>\n",
       "      <th>Superf_1950</th>\n",
       "      <th>Superficie_1950</th>\n",
       "      <th>Arrondissement_2018</th>\n",
       "      <th>Superficie_INSEE</th>\n",
       "      <th>Superficie_IGN</th>\n",
       "      <th>Localisation</th>\n",
       "    </tr>\n",
       "  </thead>\n",
       "  <tbody>\n",
       "    <tr>\n",
       "      <th>01</th>\n",
       "      <td>3781</td>\n",
       "      <td>652432</td>\n",
       "      <td>Ain</td>\n",
       "      <td>Belley</td>\n",
       "      <td>1 311,66</td>\n",
       "      <td>5825,6</td>\n",
       "      <td>BelleyBourg-en-BresseGexNantua</td>\n",
       "      <td>5 762[Insee 1]</td>\n",
       "      <td>5 785,2[Brgm 1]</td>\n",
       "      <td></td>\n",
       "    </tr>\n",
       "    <tr>\n",
       "      <th>02</th>\n",
       "      <td>3442</td>\n",
       "      <td>531345</td>\n",
       "      <td>Aisne</td>\n",
       "      <td>Château-Thierry</td>\n",
       "      <td>1 201,15</td>\n",
       "      <td>7428,35</td>\n",
       "      <td>Château-ThierryLaonSaint-QuentinSoissonsVervins</td>\n",
       "      <td>7 362[Insee 2]</td>\n",
       "      <td>7 437[Brgm 2]</td>\n",
       "      <td></td>\n",
       "    </tr>\n",
       "    <tr>\n",
       "      <th>03</th>\n",
       "      <td>2514</td>\n",
       "      <td>335975</td>\n",
       "      <td>Allier</td>\n",
       "      <td>Montluçon</td>\n",
       "      <td>2 340,98</td>\n",
       "      <td>7381,83</td>\n",
       "      <td>MontluçonMoulinsVichy</td>\n",
       "      <td>7 340[Insee 3]</td>\n",
       "      <td>7 378[Brgm 3]</td>\n",
       "      <td></td>\n",
       "    </tr>\n",
       "    <tr>\n",
       "      <th>04</th>\n",
       "      <td>1649</td>\n",
       "      <td>164308</td>\n",
       "      <td>Alpes-de-Haute-Provence</td>\n",
       "      <td>Barcelonnette</td>\n",
       "      <td>1 151,18</td>\n",
       "      <td>6988,4</td>\n",
       "      <td>BarcelonnetteCastellaneDigne-les-BainsForcalquier</td>\n",
       "      <td>6 925[Insee 4]</td>\n",
       "      <td>7 009[Brgm 4]</td>\n",
       "      <td></td>\n",
       "    </tr>\n",
       "    <tr>\n",
       "      <th>05</th>\n",
       "      <td>3075</td>\n",
       "      <td>141220</td>\n",
       "      <td>Hautes-Alpes</td>\n",
       "      <td>Briançon</td>\n",
       "      <td>2 194,55</td>\n",
       "      <td>5660,14</td>\n",
       "      <td>BriançonGap</td>\n",
       "      <td>5 549[Insee 5]</td>\n",
       "      <td>5 697[Brgm 5]</td>\n",
       "      <td></td>\n",
       "    </tr>\n",
       "  </tbody>\n",
       "</table>\n",
       "</div>"
      ],
      "text/plain": [
       "    NbreEquipements  Population              Département Arrondissement_1950  \\\n",
       "01             3781      652432                      Ain              Belley   \n",
       "02             3442      531345                    Aisne     Château-Thierry   \n",
       "03             2514      335975                   Allier           Montluçon   \n",
       "04             1649      164308  Alpes-de-Haute-Provence       Barcelonnette   \n",
       "05             3075      141220             Hautes-Alpes            Briançon   \n",
       "\n",
       "   Superf_1950 Superficie_1950  \\\n",
       "01    1 311,66          5825,6   \n",
       "02    1 201,15         7428,35   \n",
       "03    2 340,98         7381,83   \n",
       "04    1 151,18          6988,4   \n",
       "05    2 194,55         5660,14   \n",
       "\n",
       "                                  Arrondissement_2018 Superficie_INSEE  \\\n",
       "01                     BelleyBourg-en-BresseGexNantua   5 762[Insee 1]   \n",
       "02    Château-ThierryLaonSaint-QuentinSoissonsVervins   7 362[Insee 2]   \n",
       "03                              MontluçonMoulinsVichy   7 340[Insee 3]   \n",
       "04  BarcelonnetteCastellaneDigne-les-BainsForcalquier   6 925[Insee 4]   \n",
       "05                                        BriançonGap   5 549[Insee 5]   \n",
       "\n",
       "     Superficie_IGN Localisation  \n",
       "01  5 785,2[Brgm 1]               \n",
       "02    7 437[Brgm 2]               \n",
       "03    7 378[Brgm 3]               \n",
       "04    7 009[Brgm 4]               \n",
       "05    5 697[Brgm 5]               "
      ]
     },
     "execution_count": 89,
     "metadata": {},
     "output_type": "execute_result"
    }
   ],
   "source": [
    "data_base = pd.concat([data_base,data_superficie], join='inner', axis=1)\n",
    "data_base.head()"
   ]
  },
  {
   "cell_type": "code",
   "execution_count": 90,
   "id": "bb65f17d-e6e6-4c92-a4b5-bce6c89e028e",
   "metadata": {},
   "outputs": [
    {
     "data": {
      "text/html": [
       "<div>\n",
       "<style scoped>\n",
       "    .dataframe tbody tr th:only-of-type {\n",
       "        vertical-align: middle;\n",
       "    }\n",
       "\n",
       "    .dataframe tbody tr th {\n",
       "        vertical-align: top;\n",
       "    }\n",
       "\n",
       "    .dataframe thead th {\n",
       "        text-align: right;\n",
       "    }\n",
       "</style>\n",
       "<table border=\"1\" class=\"dataframe\">\n",
       "  <thead>\n",
       "    <tr style=\"text-align: right;\">\n",
       "      <th></th>\n",
       "      <th>NbreEquipements</th>\n",
       "      <th>Population</th>\n",
       "      <th>Département</th>\n",
       "      <th>Arrondissement_1950</th>\n",
       "      <th>Superf_1950</th>\n",
       "      <th>Superficie_1950</th>\n",
       "      <th>Arrondissement_2018</th>\n",
       "      <th>Superficie_INSEE</th>\n",
       "      <th>Superficie_IGN</th>\n",
       "      <th>Localisation</th>\n",
       "    </tr>\n",
       "  </thead>\n",
       "  <tbody>\n",
       "    <tr>\n",
       "      <th>01</th>\n",
       "      <td>3781</td>\n",
       "      <td>652432</td>\n",
       "      <td>Ain</td>\n",
       "      <td>Belley</td>\n",
       "      <td>1 311,66</td>\n",
       "      <td>5825,6</td>\n",
       "      <td>BelleyBourg-en-BresseGexNantua</td>\n",
       "      <td>5 762</td>\n",
       "      <td>5 785,2[Brgm 1]</td>\n",
       "      <td></td>\n",
       "    </tr>\n",
       "    <tr>\n",
       "      <th>02</th>\n",
       "      <td>3442</td>\n",
       "      <td>531345</td>\n",
       "      <td>Aisne</td>\n",
       "      <td>Château-Thierry</td>\n",
       "      <td>1 201,15</td>\n",
       "      <td>7428,35</td>\n",
       "      <td>Château-ThierryLaonSaint-QuentinSoissonsVervins</td>\n",
       "      <td>7 362</td>\n",
       "      <td>7 437[Brgm 2]</td>\n",
       "      <td></td>\n",
       "    </tr>\n",
       "    <tr>\n",
       "      <th>03</th>\n",
       "      <td>2514</td>\n",
       "      <td>335975</td>\n",
       "      <td>Allier</td>\n",
       "      <td>Montluçon</td>\n",
       "      <td>2 340,98</td>\n",
       "      <td>7381,83</td>\n",
       "      <td>MontluçonMoulinsVichy</td>\n",
       "      <td>7 340</td>\n",
       "      <td>7 378[Brgm 3]</td>\n",
       "      <td></td>\n",
       "    </tr>\n",
       "    <tr>\n",
       "      <th>04</th>\n",
       "      <td>1649</td>\n",
       "      <td>164308</td>\n",
       "      <td>Alpes-de-Haute-Provence</td>\n",
       "      <td>Barcelonnette</td>\n",
       "      <td>1 151,18</td>\n",
       "      <td>6988,4</td>\n",
       "      <td>BarcelonnetteCastellaneDigne-les-BainsForcalquier</td>\n",
       "      <td>6 925</td>\n",
       "      <td>7 009[Brgm 4]</td>\n",
       "      <td></td>\n",
       "    </tr>\n",
       "    <tr>\n",
       "      <th>05</th>\n",
       "      <td>3075</td>\n",
       "      <td>141220</td>\n",
       "      <td>Hautes-Alpes</td>\n",
       "      <td>Briançon</td>\n",
       "      <td>2 194,55</td>\n",
       "      <td>5660,14</td>\n",
       "      <td>BriançonGap</td>\n",
       "      <td>5 549</td>\n",
       "      <td>5 697[Brgm 5]</td>\n",
       "      <td></td>\n",
       "    </tr>\n",
       "  </tbody>\n",
       "</table>\n",
       "</div>"
      ],
      "text/plain": [
       "    NbreEquipements  Population              Département Arrondissement_1950  \\\n",
       "01             3781      652432                      Ain              Belley   \n",
       "02             3442      531345                    Aisne     Château-Thierry   \n",
       "03             2514      335975                   Allier           Montluçon   \n",
       "04             1649      164308  Alpes-de-Haute-Provence       Barcelonnette   \n",
       "05             3075      141220             Hautes-Alpes            Briançon   \n",
       "\n",
       "   Superf_1950 Superficie_1950  \\\n",
       "01    1 311,66          5825,6   \n",
       "02    1 201,15         7428,35   \n",
       "03    2 340,98         7381,83   \n",
       "04    1 151,18          6988,4   \n",
       "05    2 194,55         5660,14   \n",
       "\n",
       "                                  Arrondissement_2018 Superficie_INSEE  \\\n",
       "01                     BelleyBourg-en-BresseGexNantua            5 762   \n",
       "02    Château-ThierryLaonSaint-QuentinSoissonsVervins            7 362   \n",
       "03                              MontluçonMoulinsVichy            7 340   \n",
       "04  BarcelonnetteCastellaneDigne-les-BainsForcalquier            6 925   \n",
       "05                                        BriançonGap            5 549   \n",
       "\n",
       "     Superficie_IGN Localisation  \n",
       "01  5 785,2[Brgm 1]               \n",
       "02    7 437[Brgm 2]               \n",
       "03    7 378[Brgm 3]               \n",
       "04    7 009[Brgm 4]               \n",
       "05    5 697[Brgm 5]               "
      ]
     },
     "execution_count": 90,
     "metadata": {},
     "output_type": "execute_result"
    }
   ],
   "source": [
    "import numpy as np\n",
    "data_base['Superficie_INSEE']=data_base['Superficie_INSEE'].apply(lambda x: x.split(sep=\"[\")[0].replace(\" \",\"\"))\n",
    "data_base.head()"
   ]
  },
  {
   "cell_type": "code",
   "execution_count": null,
   "id": "943e1bf9-c50b-48f1-bb30-56643484850d",
   "metadata": {},
   "outputs": [],
   "source": [
    "data_base = data_base.drop(columns = [\"Arrondissement_1950\", \"Superf_1950\", \"Superficie_1950\", \"Arrondissement_2018\", \"Superficie_IGN\", \"Localisation\"])\n",
    "data_base.head()"
   ]
  },
  {
   "cell_type": "code",
   "execution_count": 101,
   "id": "7e3c8fe2-3165-444e-b5f6-064dd0b070ea",
   "metadata": {},
   "outputs": [],
   "source": [
    "data_base[\"Superficie_INSEE\"] = data_base[\"Superficie_INSEE\"].apply(lambda x: x.replace(\" \",\"\"))"
   ]
  },
  {
   "cell_type": "code",
   "execution_count": 102,
   "id": "bb1f52f6-cae7-4fa7-8533-5e96c3adba08",
   "metadata": {},
   "outputs": [
    {
     "data": {
      "text/html": [
       "<div>\n",
       "<style scoped>\n",
       "    .dataframe tbody tr th:only-of-type {\n",
       "        vertical-align: middle;\n",
       "    }\n",
       "\n",
       "    .dataframe tbody tr th {\n",
       "        vertical-align: top;\n",
       "    }\n",
       "\n",
       "    .dataframe thead th {\n",
       "        text-align: right;\n",
       "    }\n",
       "</style>\n",
       "<table border=\"1\" class=\"dataframe\">\n",
       "  <thead>\n",
       "    <tr style=\"text-align: right;\">\n",
       "      <th></th>\n",
       "      <th>NbreEquipements</th>\n",
       "      <th>Population</th>\n",
       "      <th>Département</th>\n",
       "      <th>Superficie_INSEE</th>\n",
       "      <th>Equipements/Habitant</th>\n",
       "    </tr>\n",
       "  </thead>\n",
       "  <tbody>\n",
       "    <tr>\n",
       "      <th>71</th>\n",
       "      <td>3168</td>\n",
       "      <td>551493</td>\n",
       "      <td>Saône-et-Loire</td>\n",
       "      <td>8 575</td>\n",
       "      <td>0.005744</td>\n",
       "    </tr>\n",
       "    <tr>\n",
       "      <th>72</th>\n",
       "      <td>4925</td>\n",
       "      <td>566412</td>\n",
       "      <td>Sarthe</td>\n",
       "      <td>6 206</td>\n",
       "      <td>0.008695</td>\n",
       "    </tr>\n",
       "    <tr>\n",
       "      <th>73</th>\n",
       "      <td>2701</td>\n",
       "      <td>436434</td>\n",
       "      <td>Savoie</td>\n",
       "      <td>6 028</td>\n",
       "      <td>0.006189</td>\n",
       "    </tr>\n",
       "    <tr>\n",
       "      <th>74</th>\n",
       "      <td>3820</td>\n",
       "      <td>826094</td>\n",
       "      <td>Haute-Savoie</td>\n",
       "      <td>4 388</td>\n",
       "      <td>0.004624</td>\n",
       "    </tr>\n",
       "    <tr>\n",
       "      <th>75</th>\n",
       "      <td>2901</td>\n",
       "      <td>4330846</td>\n",
       "      <td>Paris</td>\n",
       "      <td>105</td>\n",
       "      <td>0.000670</td>\n",
       "    </tr>\n",
       "    <tr>\n",
       "      <th>76</th>\n",
       "      <td>5440</td>\n",
       "      <td>1255633</td>\n",
       "      <td>Seine-Maritime</td>\n",
       "      <td>6 278</td>\n",
       "      <td>0.004332</td>\n",
       "    </tr>\n",
       "    <tr>\n",
       "      <th>77</th>\n",
       "      <td>4720</td>\n",
       "      <td>1421197</td>\n",
       "      <td>Seine-et-Marne</td>\n",
       "      <td>5 915</td>\n",
       "      <td>0.003321</td>\n",
       "    </tr>\n",
       "    <tr>\n",
       "      <th>78</th>\n",
       "      <td>4623</td>\n",
       "      <td>1448207</td>\n",
       "      <td>Yvelines</td>\n",
       "      <td>2 284</td>\n",
       "      <td>0.003192</td>\n",
       "    </tr>\n",
       "    <tr>\n",
       "      <th>79</th>\n",
       "      <td>2472</td>\n",
       "      <td>374878</td>\n",
       "      <td>Deux-Sèvres</td>\n",
       "      <td>5 999</td>\n",
       "      <td>0.006594</td>\n",
       "    </tr>\n",
       "    <tr>\n",
       "      <th>80</th>\n",
       "      <td>3645</td>\n",
       "      <td>570559</td>\n",
       "      <td>Somme</td>\n",
       "      <td>6 170</td>\n",
       "      <td>0.006388</td>\n",
       "    </tr>\n",
       "    <tr>\n",
       "      <th>81</th>\n",
       "      <td>2892</td>\n",
       "      <td>389844</td>\n",
       "      <td>Tarn</td>\n",
       "      <td>5 758</td>\n",
       "      <td>0.007418</td>\n",
       "    </tr>\n",
       "    <tr>\n",
       "      <th>82</th>\n",
       "      <td>2018</td>\n",
       "      <td>260669</td>\n",
       "      <td>Tarn-et-Garonne</td>\n",
       "      <td>3 718</td>\n",
       "      <td>0.007742</td>\n",
       "    </tr>\n",
       "    <tr>\n",
       "      <th>83</th>\n",
       "      <td>3829</td>\n",
       "      <td>1076711</td>\n",
       "      <td>Var</td>\n",
       "      <td>5 973</td>\n",
       "      <td>0.003556</td>\n",
       "    </tr>\n",
       "    <tr>\n",
       "      <th>84</th>\n",
       "      <td>2592</td>\n",
       "      <td>561469</td>\n",
       "      <td>Vaucluse</td>\n",
       "      <td>3 567</td>\n",
       "      <td>0.004616</td>\n",
       "    </tr>\n",
       "    <tr>\n",
       "      <th>85</th>\n",
       "      <td>3965</td>\n",
       "      <td>685442</td>\n",
       "      <td>Vendée</td>\n",
       "      <td>6 720</td>\n",
       "      <td>0.005785</td>\n",
       "    </tr>\n",
       "    <tr>\n",
       "      <th>86</th>\n",
       "      <td>2538</td>\n",
       "      <td>438435</td>\n",
       "      <td>Vienne</td>\n",
       "      <td>6 990</td>\n",
       "      <td>0.005789</td>\n",
       "    </tr>\n",
       "    <tr>\n",
       "      <th>87</th>\n",
       "      <td>2298</td>\n",
       "      <td>372359</td>\n",
       "      <td>Haute-Vienne</td>\n",
       "      <td>5 520</td>\n",
       "      <td>0.006171</td>\n",
       "    </tr>\n",
       "    <tr>\n",
       "      <th>88</th>\n",
       "      <td>2465</td>\n",
       "      <td>364499</td>\n",
       "      <td>Vosges</td>\n",
       "      <td>5 874</td>\n",
       "      <td>0.006763</td>\n",
       "    </tr>\n",
       "    <tr>\n",
       "      <th>89</th>\n",
       "      <td>2042</td>\n",
       "      <td>335707</td>\n",
       "      <td>Yonne</td>\n",
       "      <td>7 427</td>\n",
       "      <td>0.006083</td>\n",
       "    </tr>\n",
       "    <tr>\n",
       "      <th>90</th>\n",
       "      <td>837</td>\n",
       "      <td>141318</td>\n",
       "      <td>Territoire de Belfort</td>\n",
       "      <td>609</td>\n",
       "      <td>0.005923</td>\n",
       "    </tr>\n",
       "    <tr>\n",
       "      <th>91</th>\n",
       "      <td>4280</td>\n",
       "      <td>1301659</td>\n",
       "      <td>Essonne</td>\n",
       "      <td>1 804</td>\n",
       "      <td>0.003288</td>\n",
       "    </tr>\n",
       "    <tr>\n",
       "      <th>92</th>\n",
       "      <td>3457</td>\n",
       "      <td>1624357</td>\n",
       "      <td>Hauts-de-Seine</td>\n",
       "      <td>176</td>\n",
       "      <td>0.002128</td>\n",
       "    </tr>\n",
       "    <tr>\n",
       "      <th>93</th>\n",
       "      <td>2594</td>\n",
       "      <td>1644903</td>\n",
       "      <td>Seine-Saint-Denis</td>\n",
       "      <td>236</td>\n",
       "      <td>0.001577</td>\n",
       "    </tr>\n",
       "    <tr>\n",
       "      <th>94</th>\n",
       "      <td>2781</td>\n",
       "      <td>1407124</td>\n",
       "      <td>Val-de-Marne</td>\n",
       "      <td>245</td>\n",
       "      <td>0.001976</td>\n",
       "    </tr>\n",
       "    <tr>\n",
       "      <th>95</th>\n",
       "      <td>3672</td>\n",
       "      <td>1249674</td>\n",
       "      <td>Val-d'Oise</td>\n",
       "      <td>1 246</td>\n",
       "      <td>0.002938</td>\n",
       "    </tr>\n",
       "  </tbody>\n",
       "</table>\n",
       "</div>"
      ],
      "text/plain": [
       "    NbreEquipements  Population            Département Superficie_INSEE  \\\n",
       "71             3168      551493         Saône-et-Loire            8 575   \n",
       "72             4925      566412                 Sarthe            6 206   \n",
       "73             2701      436434                 Savoie            6 028   \n",
       "74             3820      826094           Haute-Savoie            4 388   \n",
       "75             2901     4330846                  Paris              105   \n",
       "76             5440     1255633         Seine-Maritime            6 278   \n",
       "77             4720     1421197         Seine-et-Marne            5 915   \n",
       "78             4623     1448207               Yvelines            2 284   \n",
       "79             2472      374878            Deux-Sèvres            5 999   \n",
       "80             3645      570559                  Somme            6 170   \n",
       "81             2892      389844                   Tarn            5 758   \n",
       "82             2018      260669        Tarn-et-Garonne            3 718   \n",
       "83             3829     1076711                    Var            5 973   \n",
       "84             2592      561469               Vaucluse            3 567   \n",
       "85             3965      685442                 Vendée            6 720   \n",
       "86             2538      438435                 Vienne            6 990   \n",
       "87             2298      372359           Haute-Vienne            5 520   \n",
       "88             2465      364499                 Vosges            5 874   \n",
       "89             2042      335707                  Yonne            7 427   \n",
       "90              837      141318  Territoire de Belfort              609   \n",
       "91             4280     1301659                Essonne            1 804   \n",
       "92             3457     1624357         Hauts-de-Seine              176   \n",
       "93             2594     1644903      Seine-Saint-Denis              236   \n",
       "94             2781     1407124           Val-de-Marne              245   \n",
       "95             3672     1249674             Val-d'Oise            1 246   \n",
       "\n",
       "    Equipements/Habitant  \n",
       "71              0.005744  \n",
       "72              0.008695  \n",
       "73              0.006189  \n",
       "74              0.004624  \n",
       "75              0.000670  \n",
       "76              0.004332  \n",
       "77              0.003321  \n",
       "78              0.003192  \n",
       "79              0.006594  \n",
       "80              0.006388  \n",
       "81              0.007418  \n",
       "82              0.007742  \n",
       "83              0.003556  \n",
       "84              0.004616  \n",
       "85              0.005785  \n",
       "86              0.005789  \n",
       "87              0.006171  \n",
       "88              0.006763  \n",
       "89              0.006083  \n",
       "90              0.005923  \n",
       "91              0.003288  \n",
       "92              0.002128  \n",
       "93              0.001577  \n",
       "94              0.001976  \n",
       "95              0.002938  "
      ]
     },
     "execution_count": 102,
     "metadata": {},
     "output_type": "execute_result"
    }
   ],
   "source": [
    "data_base.tail(25)"
   ]
  },
  {
   "cell_type": "markdown",
   "id": "a4f950aa-44a1-4233-bad7-e04efe70c3e4",
   "metadata": {},
   "source": [
    "A partir de ces données, nous créons 2 nouvelles variables, à savoir le nombre d'équipements sportifs par habitant et le nombre d'équipements sportifs par km²."
   ]
  },
  {
   "cell_type": "code",
   "execution_count": 92,
   "id": "aef7ab20-1e7f-4bf8-adbf-f9aa89d04c49",
   "metadata": {},
   "outputs": [
    {
     "ename": "TypeError",
     "evalue": "unsupported operand type(s) for /: 'int' and 'str'",
     "output_type": "error",
     "traceback": [
      "\u001b[0;31m---------------------------------------------------------------------------\u001b[0m",
      "\u001b[0;31mTypeError\u001b[0m                                 Traceback (most recent call last)",
      "File \u001b[0;32m/opt/mamba/lib/python3.10/site-packages/pandas/core/ops/array_ops.py:165\u001b[0m, in \u001b[0;36m_na_arithmetic_op\u001b[0;34m(left, right, op, is_cmp)\u001b[0m\n\u001b[1;32m    164\u001b[0m \u001b[38;5;28;01mtry\u001b[39;00m:\n\u001b[0;32m--> 165\u001b[0m     result \u001b[38;5;241m=\u001b[39m \u001b[43mfunc\u001b[49m\u001b[43m(\u001b[49m\u001b[43mleft\u001b[49m\u001b[43m,\u001b[49m\u001b[43m \u001b[49m\u001b[43mright\u001b[49m\u001b[43m)\u001b[49m\n\u001b[1;32m    166\u001b[0m \u001b[38;5;28;01mexcept\u001b[39;00m \u001b[38;5;167;01mTypeError\u001b[39;00m:\n",
      "File \u001b[0;32m/opt/mamba/lib/python3.10/site-packages/pandas/core/computation/expressions.py:241\u001b[0m, in \u001b[0;36mevaluate\u001b[0;34m(op, a, b, use_numexpr)\u001b[0m\n\u001b[1;32m    239\u001b[0m     \u001b[38;5;28;01mif\u001b[39;00m use_numexpr:\n\u001b[1;32m    240\u001b[0m         \u001b[38;5;66;03m# error: \"None\" not callable\u001b[39;00m\n\u001b[0;32m--> 241\u001b[0m         \u001b[38;5;28;01mreturn\u001b[39;00m \u001b[43m_evaluate\u001b[49m\u001b[43m(\u001b[49m\u001b[43mop\u001b[49m\u001b[43m,\u001b[49m\u001b[43m \u001b[49m\u001b[43mop_str\u001b[49m\u001b[43m,\u001b[49m\u001b[43m \u001b[49m\u001b[43ma\u001b[49m\u001b[43m,\u001b[49m\u001b[43m \u001b[49m\u001b[43mb\u001b[49m\u001b[43m)\u001b[49m  \u001b[38;5;66;03m# type: ignore[misc]\u001b[39;00m\n\u001b[1;32m    242\u001b[0m \u001b[38;5;28;01mreturn\u001b[39;00m _evaluate_standard(op, op_str, a, b)\n",
      "File \u001b[0;32m/opt/mamba/lib/python3.10/site-packages/pandas/core/computation/expressions.py:70\u001b[0m, in \u001b[0;36m_evaluate_standard\u001b[0;34m(op, op_str, a, b)\u001b[0m\n\u001b[1;32m     69\u001b[0m     _store_test_result(\u001b[38;5;28;01mFalse\u001b[39;00m)\n\u001b[0;32m---> 70\u001b[0m \u001b[38;5;28;01mreturn\u001b[39;00m \u001b[43mop\u001b[49m\u001b[43m(\u001b[49m\u001b[43ma\u001b[49m\u001b[43m,\u001b[49m\u001b[43m \u001b[49m\u001b[43mb\u001b[49m\u001b[43m)\u001b[49m\n",
      "\u001b[0;31mTypeError\u001b[0m: unsupported operand type(s) for /: 'int' and 'str'",
      "\nDuring handling of the above exception, another exception occurred:\n",
      "\u001b[0;31mTypeError\u001b[0m                                 Traceback (most recent call last)",
      "Cell \u001b[0;32mIn [92], line 2\u001b[0m\n\u001b[1;32m      1\u001b[0m data_base[\u001b[38;5;124m\"\u001b[39m\u001b[38;5;124mEquipements/Habitant\u001b[39m\u001b[38;5;124m\"\u001b[39m] \u001b[38;5;241m=\u001b[39m data_base[\u001b[38;5;124m\"\u001b[39m\u001b[38;5;124mNbreEquipements\u001b[39m\u001b[38;5;124m\"\u001b[39m]\u001b[38;5;241m/\u001b[39mdata_base[\u001b[38;5;124m\"\u001b[39m\u001b[38;5;124mPopulation\u001b[39m\u001b[38;5;124m\"\u001b[39m]\n\u001b[0;32m----> 2\u001b[0m data_base[\u001b[38;5;124m\"\u001b[39m\u001b[38;5;124mEquipements/km²\u001b[39m\u001b[38;5;124m\"\u001b[39m] \u001b[38;5;241m=\u001b[39m \u001b[43mdata_base\u001b[49m\u001b[43m[\u001b[49m\u001b[38;5;124;43m\"\u001b[39;49m\u001b[38;5;124;43mNbreEquipements\u001b[39;49m\u001b[38;5;124;43m\"\u001b[39;49m\u001b[43m]\u001b[49m\u001b[38;5;241;43m/\u001b[39;49m\u001b[43mdata_base\u001b[49m\u001b[43m[\u001b[49m\u001b[38;5;124;43m\"\u001b[39;49m\u001b[38;5;124;43mSuperficie_INSEE\u001b[39;49m\u001b[38;5;124;43m\"\u001b[39;49m\u001b[43m]\u001b[49m\n",
      "File \u001b[0;32m/opt/mamba/lib/python3.10/site-packages/pandas/core/ops/common.py:72\u001b[0m, in \u001b[0;36m_unpack_zerodim_and_defer.<locals>.new_method\u001b[0;34m(self, other)\u001b[0m\n\u001b[1;32m     68\u001b[0m             \u001b[38;5;28;01mreturn\u001b[39;00m \u001b[38;5;28mNotImplemented\u001b[39m\n\u001b[1;32m     70\u001b[0m other \u001b[38;5;241m=\u001b[39m item_from_zerodim(other)\n\u001b[0;32m---> 72\u001b[0m \u001b[38;5;28;01mreturn\u001b[39;00m \u001b[43mmethod\u001b[49m\u001b[43m(\u001b[49m\u001b[38;5;28;43mself\u001b[39;49m\u001b[43m,\u001b[49m\u001b[43m \u001b[49m\u001b[43mother\u001b[49m\u001b[43m)\u001b[49m\n",
      "File \u001b[0;32m/opt/mamba/lib/python3.10/site-packages/pandas/core/arraylike.py:126\u001b[0m, in \u001b[0;36mOpsMixin.__truediv__\u001b[0;34m(self, other)\u001b[0m\n\u001b[1;32m    124\u001b[0m \u001b[38;5;129m@unpack_zerodim_and_defer\u001b[39m(\u001b[38;5;124m\"\u001b[39m\u001b[38;5;124m__truediv__\u001b[39m\u001b[38;5;124m\"\u001b[39m)\n\u001b[1;32m    125\u001b[0m \u001b[38;5;28;01mdef\u001b[39;00m \u001b[38;5;21m__truediv__\u001b[39m(\u001b[38;5;28mself\u001b[39m, other):\n\u001b[0;32m--> 126\u001b[0m     \u001b[38;5;28;01mreturn\u001b[39;00m \u001b[38;5;28;43mself\u001b[39;49m\u001b[38;5;241;43m.\u001b[39;49m\u001b[43m_arith_method\u001b[49m\u001b[43m(\u001b[49m\u001b[43mother\u001b[49m\u001b[43m,\u001b[49m\u001b[43m \u001b[49m\u001b[43moperator\u001b[49m\u001b[38;5;241;43m.\u001b[39;49m\u001b[43mtruediv\u001b[49m\u001b[43m)\u001b[49m\n",
      "File \u001b[0;32m/opt/mamba/lib/python3.10/site-packages/pandas/core/series.py:6259\u001b[0m, in \u001b[0;36mSeries._arith_method\u001b[0;34m(self, other, op)\u001b[0m\n\u001b[1;32m   6257\u001b[0m \u001b[38;5;28;01mdef\u001b[39;00m \u001b[38;5;21m_arith_method\u001b[39m(\u001b[38;5;28mself\u001b[39m, other, op):\n\u001b[1;32m   6258\u001b[0m     \u001b[38;5;28mself\u001b[39m, other \u001b[38;5;241m=\u001b[39m ops\u001b[38;5;241m.\u001b[39malign_method_SERIES(\u001b[38;5;28mself\u001b[39m, other)\n\u001b[0;32m-> 6259\u001b[0m     \u001b[38;5;28;01mreturn\u001b[39;00m \u001b[43mbase\u001b[49m\u001b[38;5;241;43m.\u001b[39;49m\u001b[43mIndexOpsMixin\u001b[49m\u001b[38;5;241;43m.\u001b[39;49m\u001b[43m_arith_method\u001b[49m\u001b[43m(\u001b[49m\u001b[38;5;28;43mself\u001b[39;49m\u001b[43m,\u001b[49m\u001b[43m \u001b[49m\u001b[43mother\u001b[49m\u001b[43m,\u001b[49m\u001b[43m \u001b[49m\u001b[43mop\u001b[49m\u001b[43m)\u001b[49m\n",
      "File \u001b[0;32m/opt/mamba/lib/python3.10/site-packages/pandas/core/base.py:1325\u001b[0m, in \u001b[0;36mIndexOpsMixin._arith_method\u001b[0;34m(self, other, op)\u001b[0m\n\u001b[1;32m   1322\u001b[0m rvalues \u001b[38;5;241m=\u001b[39m ensure_wrapped_if_datetimelike(rvalues)\n\u001b[1;32m   1324\u001b[0m \u001b[38;5;28;01mwith\u001b[39;00m np\u001b[38;5;241m.\u001b[39merrstate(\u001b[38;5;28mall\u001b[39m\u001b[38;5;241m=\u001b[39m\u001b[38;5;124m\"\u001b[39m\u001b[38;5;124mignore\u001b[39m\u001b[38;5;124m\"\u001b[39m):\n\u001b[0;32m-> 1325\u001b[0m     result \u001b[38;5;241m=\u001b[39m \u001b[43mops\u001b[49m\u001b[38;5;241;43m.\u001b[39;49m\u001b[43marithmetic_op\u001b[49m\u001b[43m(\u001b[49m\u001b[43mlvalues\u001b[49m\u001b[43m,\u001b[49m\u001b[43m \u001b[49m\u001b[43mrvalues\u001b[49m\u001b[43m,\u001b[49m\u001b[43m \u001b[49m\u001b[43mop\u001b[49m\u001b[43m)\u001b[49m\n\u001b[1;32m   1327\u001b[0m \u001b[38;5;28;01mreturn\u001b[39;00m \u001b[38;5;28mself\u001b[39m\u001b[38;5;241m.\u001b[39m_construct_result(result, name\u001b[38;5;241m=\u001b[39mres_name)\n",
      "File \u001b[0;32m/opt/mamba/lib/python3.10/site-packages/pandas/core/ops/array_ops.py:226\u001b[0m, in \u001b[0;36marithmetic_op\u001b[0;34m(left, right, op)\u001b[0m\n\u001b[1;32m    222\u001b[0m     _bool_arith_check(op, left, right)\n\u001b[1;32m    224\u001b[0m     \u001b[38;5;66;03m# error: Argument 1 to \"_na_arithmetic_op\" has incompatible type\u001b[39;00m\n\u001b[1;32m    225\u001b[0m     \u001b[38;5;66;03m# \"Union[ExtensionArray, ndarray[Any, Any]]\"; expected \"ndarray[Any, Any]\"\u001b[39;00m\n\u001b[0;32m--> 226\u001b[0m     res_values \u001b[38;5;241m=\u001b[39m \u001b[43m_na_arithmetic_op\u001b[49m\u001b[43m(\u001b[49m\u001b[43mleft\u001b[49m\u001b[43m,\u001b[49m\u001b[43m \u001b[49m\u001b[43mright\u001b[49m\u001b[43m,\u001b[49m\u001b[43m \u001b[49m\u001b[43mop\u001b[49m\u001b[43m)\u001b[49m  \u001b[38;5;66;03m# type: ignore[arg-type]\u001b[39;00m\n\u001b[1;32m    228\u001b[0m \u001b[38;5;28;01mreturn\u001b[39;00m res_values\n",
      "File \u001b[0;32m/opt/mamba/lib/python3.10/site-packages/pandas/core/ops/array_ops.py:172\u001b[0m, in \u001b[0;36m_na_arithmetic_op\u001b[0;34m(left, right, op, is_cmp)\u001b[0m\n\u001b[1;32m    166\u001b[0m \u001b[38;5;28;01mexcept\u001b[39;00m \u001b[38;5;167;01mTypeError\u001b[39;00m:\n\u001b[1;32m    167\u001b[0m     \u001b[38;5;28;01mif\u001b[39;00m \u001b[38;5;129;01mnot\u001b[39;00m is_cmp \u001b[38;5;129;01mand\u001b[39;00m (is_object_dtype(left\u001b[38;5;241m.\u001b[39mdtype) \u001b[38;5;129;01mor\u001b[39;00m is_object_dtype(right)):\n\u001b[1;32m    168\u001b[0m         \u001b[38;5;66;03m# For object dtype, fallback to a masked operation (only operating\u001b[39;00m\n\u001b[1;32m    169\u001b[0m         \u001b[38;5;66;03m#  on the non-missing values)\u001b[39;00m\n\u001b[1;32m    170\u001b[0m         \u001b[38;5;66;03m# Don't do this for comparisons, as that will handle complex numbers\u001b[39;00m\n\u001b[1;32m    171\u001b[0m         \u001b[38;5;66;03m#  incorrectly, see GH#32047\u001b[39;00m\n\u001b[0;32m--> 172\u001b[0m         result \u001b[38;5;241m=\u001b[39m \u001b[43m_masked_arith_op\u001b[49m\u001b[43m(\u001b[49m\u001b[43mleft\u001b[49m\u001b[43m,\u001b[49m\u001b[43m \u001b[49m\u001b[43mright\u001b[49m\u001b[43m,\u001b[49m\u001b[43m \u001b[49m\u001b[43mop\u001b[49m\u001b[43m)\u001b[49m\n\u001b[1;32m    173\u001b[0m     \u001b[38;5;28;01melse\u001b[39;00m:\n\u001b[1;32m    174\u001b[0m         \u001b[38;5;28;01mraise\u001b[39;00m\n",
      "File \u001b[0;32m/opt/mamba/lib/python3.10/site-packages/pandas/core/ops/array_ops.py:110\u001b[0m, in \u001b[0;36m_masked_arith_op\u001b[0;34m(x, y, op)\u001b[0m\n\u001b[1;32m    108\u001b[0m     \u001b[38;5;66;03m# See GH#5284, GH#5035, GH#19448 for historical reference\u001b[39;00m\n\u001b[1;32m    109\u001b[0m     \u001b[38;5;28;01mif\u001b[39;00m mask\u001b[38;5;241m.\u001b[39many():\n\u001b[0;32m--> 110\u001b[0m         result[mask] \u001b[38;5;241m=\u001b[39m \u001b[43mop\u001b[49m\u001b[43m(\u001b[49m\u001b[43mxrav\u001b[49m\u001b[43m[\u001b[49m\u001b[43mmask\u001b[49m\u001b[43m]\u001b[49m\u001b[43m,\u001b[49m\u001b[43m \u001b[49m\u001b[43myrav\u001b[49m\u001b[43m[\u001b[49m\u001b[43mmask\u001b[49m\u001b[43m]\u001b[49m\u001b[43m)\u001b[49m\n\u001b[1;32m    112\u001b[0m \u001b[38;5;28;01melse\u001b[39;00m:\n\u001b[1;32m    113\u001b[0m     \u001b[38;5;28;01mif\u001b[39;00m \u001b[38;5;129;01mnot\u001b[39;00m is_scalar(y):\n",
      "\u001b[0;31mTypeError\u001b[0m: unsupported operand type(s) for /: 'int' and 'str'"
     ]
    }
   ],
   "source": [
    "data_base[\"Equipements/Habitant\"] = data_base[\"NbreEquipements\"]/data_base[\"Population\"]\n",
    "data_base[\"Equipements/km²\"] = data_base[\"NbreEquipements\"]/data_base[\"Superficie_INSEE\"]\n"
   ]
  },
  {
   "cell_type": "markdown",
   "id": "6876c203-e6b9-4628-b727-1f1ed8cf0c28",
   "metadata": {},
   "source": [
    "Nous pouvons alors réordonner nos colonnes et réaliser de rapides statistiques descriptives."
   ]
  },
  {
   "cell_type": "code",
   "execution_count": null,
   "id": "f574aaaf-95e2-477c-b379-a4ab6dafd370",
   "metadata": {},
   "outputs": [],
   "source": [
    "data_base = data_base.reindex(columns = [\"Département\", \"NbreEquipements\", \"Population\", \"Equipement/Habitant\", \"Superficie_INSEE\", \"Equipement/km²\"])\n",
    "data_base.describe()"
   ]
  },
  {
   "cell_type": "code",
   "execution_count": null,
   "id": "3fa48b9d-fe32-4684-b9dd-32c1ba439fad",
   "metadata": {},
   "outputs": [],
   "source": [
    "# packages utiles\n",
    "import numpy as np\n",
    "from sklearn.linear_model import LinearRegression\n",
    "from sklearn.model_selection import train_test_split\n",
    "import sklearn.metrics\n",
    "import matplotlib.pyplot as plt\n",
    "import seaborn as sns\n",
    "import pandas as pd\n"
   ]
  },
  {
   "cell_type": "code",
   "execution_count": null,
   "id": "645dcf08-dccd-4648-8f50-d4fab1f74620",
   "metadata": {},
   "outputs": [],
   "source": [
    "x = data_base[[\"Population\"]]\n",
    "y = data_base[[\"NbreEquipements\"]]\n",
    "model = LinearRegression(fit_intercept=False).fit(x,y)\n",
    "\n",
    "plt.scatter(x, y, color = 'red')\n",
    "plt.plot(x, model.predict(x), color = 'blue')\n",
    "plt.xlabel('Population')\n",
    "plt.ylabel('Equipements')\n",
    "plt.show()"
   ]
  },
  {
   "cell_type": "markdown",
   "id": "9c33d726-4e6c-4ddd-8898-0dc8317d7dbe",
   "metadata": {},
   "source": [
    "Désormais, nous importons donc une base de données contenant la superficie de chaque département.\n",
    "N'ayant pas trouvé une telle base de données sur le site de l'INSEE, nous décidons donc de faire du \"Webscrapping\" sur la page Wikipédia traitant de la superficie des départements français disponible à l'adresse suivante : https://fr.wikipedia.org/wiki/Superficie_des_d%C3%A9partements_fran%C3%A7ais"
   ]
  },
  {
   "cell_type": "code",
   "execution_count": null,
   "id": "d6abf5e1-535f-4c80-bc3f-1e1c6f729be7",
   "metadata": {},
   "outputs": [],
   "source": [
    "import urllib\n",
    "import bs4\n",
    "import pandas as pd\n",
    "from urllib import request\n",
    "!pip install html5lib\n",
    "!pip install lxml"
   ]
  },
  {
   "cell_type": "code",
   "execution_count": null,
   "id": "055c36e3-9e60-4f0c-97f0-abd4009423ab",
   "metadata": {},
   "outputs": [],
   "source": [
    "# Etape 1 : se connecter à la page wikipedia et obtenir le code source\n",
    "\n",
    "url_ligue_1 = \"https://fr.wikipedia.org/wiki/Superficie_des_d%C3%A9partements_fran%C3%A7ais\"\n",
    "    \n",
    "request_text = request.urlopen(url_ligue_1).read()\n",
    "# print(request_text[:1000])    "
   ]
  },
  {
   "cell_type": "code",
   "execution_count": null,
   "id": "a9e785a1-9117-4b89-98c9-dbd1ae471d38",
   "metadata": {},
   "outputs": [],
   "source": [
    "# Etape 2 : utiliser le package BeautifulSoup\n",
    "# qui \"comprend\" les balises contenues dans la chaine de caractères renvoyée par la fonction request\n",
    "\n",
    "page = bs4.BeautifulSoup(request_text, \"html.parser\") # Solution trouvée sur cette page \"https://stackoverflow.com/questions/24398302/bs4-featurenotfound-couldnt-find-a-tree-builder-with-the-features-you-requeste\"\n",
    "\n",
    "print(page)"
   ]
  },
  {
   "cell_type": "code",
   "execution_count": null,
   "id": "b18d7e1f-ed8a-484b-b494-23a12d29e296",
   "metadata": {},
   "outputs": [],
   "source": [
    "# on identifie le tableau en question : c'est le premier qui a cette classe \"wikitable sortable\"\n",
    "tableau_superficie = page.find('table', {'class' : 'wikitable sortable'})\n",
    "print(tableau_superficie)"
   ]
  },
  {
   "cell_type": "code",
   "execution_count": null,
   "id": "4cda5663-5018-4e0e-8c68-40f638c35929",
   "metadata": {},
   "outputs": [],
   "source": [
    "table_body = tableau_superficie.find('tbody')\n",
    "rows = table_body.find_all('tr')"
   ]
  },
  {
   "cell_type": "code",
   "execution_count": null,
   "id": "5766a5a8-67d0-4f38-8b1c-0f1362ed6506",
   "metadata": {},
   "outputs": [],
   "source": [
    "print(rows[1])"
   ]
  },
  {
   "cell_type": "code",
   "execution_count": null,
   "id": "ed9d1f7b-42d7-4842-92de-bdac73717a76",
   "metadata": {},
   "outputs": [],
   "source": [
    "print(rows[5])"
   ]
  },
  {
   "cell_type": "code",
   "execution_count": null,
   "id": "6dfdf075-1042-4da5-a26d-e7133cea2ccc",
   "metadata": {},
   "outputs": [],
   "source": [
    "cols = rows[5].find_all('td')\n",
    "print(cols[0])\n",
    "print(cols[0].text.strip())"
   ]
  },
  {
   "cell_type": "code",
   "execution_count": null,
   "id": "2bee1281-40be-4b0f-8ada-7d38b3065c05",
   "metadata": {},
   "outputs": [],
   "source": [
    "for ele in cols : \n",
    "    print(ele.text.strip())"
   ]
  },
  {
   "cell_type": "code",
   "execution_count": null,
   "id": "cf6654e2-6f71-4561-9d61-993875f09c3a",
   "metadata": {},
   "outputs": [],
   "source": [
    "for row in rows:\n",
    "    cols = row.find_all('td')\n",
    "    cols = [ele.text.strip() for ele in cols]\n",
    "    print(cols)"
   ]
  },
  {
   "cell_type": "code",
   "execution_count": null,
   "id": "029a6802-febd-4f30-aa4b-ca5c2598e7ea",
   "metadata": {},
   "outputs": [],
   "source": [
    "dico_superficie = dict()\n",
    "for row in rows:\n",
    "    cols = row.find_all('td')\n",
    "    cols = [ele.text.strip() for ele in cols]\n",
    "    if len(cols) > 0 : \n",
    "        dico_superficie[cols[0]] = cols[1:]\n",
    "dico_superficie"
   ]
  },
  {
   "cell_type": "code",
   "execution_count": null,
   "id": "57a0642c-6618-4f13-9a80-d874c6b869e4",
   "metadata": {},
   "outputs": [],
   "source": [
    "data_superficie = pd.DataFrame.from_dict(dico_superficie,orient='index')\n",
    "data_superficie.head()\n"
   ]
  },
  {
   "cell_type": "code",
   "execution_count": null,
   "id": "aecffa4f-cdbf-49eb-a51a-e56abd6670d1",
   "metadata": {},
   "outputs": [],
   "source": [
    "columns_departements = ['Département','Arrondissement_1950','Superf_1950','Superficie_1950','Arrondissement_2018','Superficie_INSEE','Superfcice_IGN','Localisation']\n",
    "data_superficie.columns = columns_departements\n",
    "data_superficie.head()"
   ]
  },
  {
   "cell_type": "code",
   "execution_count": null,
   "id": "531644cc-6327-46ed-be33-7b207ce78c81",
   "metadata": {},
   "outputs": [],
   "source": [
    "data_base = pd.concat([data_base,data_superficie], join='inner', axis=1)\n",
    "data_base.head()"
   ]
  },
  {
   "cell_type": "code",
   "execution_count": 88,
   "id": "9f52be09-e02d-4112-853d-5dea858d7344",
   "metadata": {},
   "outputs": [
    {
     "ename": "AttributeError",
     "evalue": "'Series' object has no attribute 'split'",
     "output_type": "error",
     "traceback": [
      "\u001b[0;31m---------------------------------------------------------------------------\u001b[0m",
      "\u001b[0;31mAttributeError\u001b[0m                            Traceback (most recent call last)",
      "Cell \u001b[0;32mIn [89], line 1\u001b[0m\n\u001b[0;32m----> 1\u001b[0m data_base[\u001b[38;5;124m'\u001b[39m\u001b[38;5;124mSuperficie_INSEE\u001b[39m\u001b[38;5;124m'\u001b[39m]\u001b[38;5;241m=\u001b[39m\u001b[43mdata_base\u001b[49m\u001b[43m[\u001b[49m\u001b[38;5;124;43m'\u001b[39;49m\u001b[38;5;124;43mSuperficie_INSEE\u001b[39;49m\u001b[38;5;124;43m'\u001b[39;49m\u001b[43m]\u001b[49m\u001b[38;5;241;43m.\u001b[39;49m\u001b[43mapply\u001b[49m\u001b[43m(\u001b[49m\u001b[38;5;28;43;01mlambda\u001b[39;49;00m\u001b[43m \u001b[49m\u001b[43mx\u001b[49m\u001b[43m:\u001b[49m\u001b[43m \u001b[49m\u001b[43mx\u001b[49m\u001b[38;5;241;43m.\u001b[39;49m\u001b[43msplit\u001b[49m\u001b[43m(\u001b[49m\u001b[43msep\u001b[49m\u001b[38;5;241;43m=\u001b[39;49m\u001b[38;5;124;43m\"\u001b[39;49m\u001b[38;5;124;43m[\u001b[39;49m\u001b[38;5;124;43m\"\u001b[39;49m\u001b[43m)\u001b[49m\u001b[43m[\u001b[49m\u001b[38;5;241;43m0\u001b[39;49m\u001b[43m]\u001b[49m\u001b[43m)\u001b[49m\n\u001b[1;32m      2\u001b[0m data_base\u001b[38;5;241m.\u001b[39mhead()\n",
      "File \u001b[0;32m/opt/mamba/lib/python3.10/site-packages/pandas/core/frame.py:9555\u001b[0m, in \u001b[0;36mDataFrame.apply\u001b[0;34m(self, func, axis, raw, result_type, args, **kwargs)\u001b[0m\n\u001b[1;32m   9544\u001b[0m \u001b[38;5;28;01mfrom\u001b[39;00m \u001b[38;5;21;01mpandas\u001b[39;00m\u001b[38;5;21;01m.\u001b[39;00m\u001b[38;5;21;01mcore\u001b[39;00m\u001b[38;5;21;01m.\u001b[39;00m\u001b[38;5;21;01mapply\u001b[39;00m \u001b[38;5;28;01mimport\u001b[39;00m frame_apply\n\u001b[1;32m   9546\u001b[0m op \u001b[38;5;241m=\u001b[39m frame_apply(\n\u001b[1;32m   9547\u001b[0m     \u001b[38;5;28mself\u001b[39m,\n\u001b[1;32m   9548\u001b[0m     func\u001b[38;5;241m=\u001b[39mfunc,\n\u001b[0;32m   (...)\u001b[0m\n\u001b[1;32m   9553\u001b[0m     kwargs\u001b[38;5;241m=\u001b[39mkwargs,\n\u001b[1;32m   9554\u001b[0m )\n\u001b[0;32m-> 9555\u001b[0m \u001b[38;5;28;01mreturn\u001b[39;00m \u001b[43mop\u001b[49m\u001b[38;5;241;43m.\u001b[39;49m\u001b[43mapply\u001b[49m\u001b[43m(\u001b[49m\u001b[43m)\u001b[49m\u001b[38;5;241m.\u001b[39m__finalize__(\u001b[38;5;28mself\u001b[39m, method\u001b[38;5;241m=\u001b[39m\u001b[38;5;124m\"\u001b[39m\u001b[38;5;124mapply\u001b[39m\u001b[38;5;124m\"\u001b[39m)\n",
      "File \u001b[0;32m/opt/mamba/lib/python3.10/site-packages/pandas/core/apply.py:746\u001b[0m, in \u001b[0;36mFrameApply.apply\u001b[0;34m(self)\u001b[0m\n\u001b[1;32m    743\u001b[0m \u001b[38;5;28;01melif\u001b[39;00m \u001b[38;5;28mself\u001b[39m\u001b[38;5;241m.\u001b[39mraw:\n\u001b[1;32m    744\u001b[0m     \u001b[38;5;28;01mreturn\u001b[39;00m \u001b[38;5;28mself\u001b[39m\u001b[38;5;241m.\u001b[39mapply_raw()\n\u001b[0;32m--> 746\u001b[0m \u001b[38;5;28;01mreturn\u001b[39;00m \u001b[38;5;28;43mself\u001b[39;49m\u001b[38;5;241;43m.\u001b[39;49m\u001b[43mapply_standard\u001b[49m\u001b[43m(\u001b[49m\u001b[43m)\u001b[49m\n",
      "File \u001b[0;32m/opt/mamba/lib/python3.10/site-packages/pandas/core/apply.py:873\u001b[0m, in \u001b[0;36mFrameApply.apply_standard\u001b[0;34m(self)\u001b[0m\n\u001b[1;32m    872\u001b[0m \u001b[38;5;28;01mdef\u001b[39;00m \u001b[38;5;21mapply_standard\u001b[39m(\u001b[38;5;28mself\u001b[39m):\n\u001b[0;32m--> 873\u001b[0m     results, res_index \u001b[38;5;241m=\u001b[39m \u001b[38;5;28;43mself\u001b[39;49m\u001b[38;5;241;43m.\u001b[39;49m\u001b[43mapply_series_generator\u001b[49m\u001b[43m(\u001b[49m\u001b[43m)\u001b[49m\n\u001b[1;32m    875\u001b[0m     \u001b[38;5;66;03m# wrap results\u001b[39;00m\n\u001b[1;32m    876\u001b[0m     \u001b[38;5;28;01mreturn\u001b[39;00m \u001b[38;5;28mself\u001b[39m\u001b[38;5;241m.\u001b[39mwrap_results(results, res_index)\n",
      "File \u001b[0;32m/opt/mamba/lib/python3.10/site-packages/pandas/core/apply.py:889\u001b[0m, in \u001b[0;36mFrameApply.apply_series_generator\u001b[0;34m(self)\u001b[0m\n\u001b[1;32m    886\u001b[0m \u001b[38;5;28;01mwith\u001b[39;00m option_context(\u001b[38;5;124m\"\u001b[39m\u001b[38;5;124mmode.chained_assignment\u001b[39m\u001b[38;5;124m\"\u001b[39m, \u001b[38;5;28;01mNone\u001b[39;00m):\n\u001b[1;32m    887\u001b[0m     \u001b[38;5;28;01mfor\u001b[39;00m i, v \u001b[38;5;129;01min\u001b[39;00m \u001b[38;5;28menumerate\u001b[39m(series_gen):\n\u001b[1;32m    888\u001b[0m         \u001b[38;5;66;03m# ignore SettingWithCopy here in case the user mutates\u001b[39;00m\n\u001b[0;32m--> 889\u001b[0m         results[i] \u001b[38;5;241m=\u001b[39m \u001b[38;5;28;43mself\u001b[39;49m\u001b[38;5;241;43m.\u001b[39;49m\u001b[43mf\u001b[49m\u001b[43m(\u001b[49m\u001b[43mv\u001b[49m\u001b[43m)\u001b[49m\n\u001b[1;32m    890\u001b[0m         \u001b[38;5;28;01mif\u001b[39;00m \u001b[38;5;28misinstance\u001b[39m(results[i], ABCSeries):\n\u001b[1;32m    891\u001b[0m             \u001b[38;5;66;03m# If we have a view on v, we need to make a copy because\u001b[39;00m\n\u001b[1;32m    892\u001b[0m             \u001b[38;5;66;03m#  series_generator will swap out the underlying data\u001b[39;00m\n\u001b[1;32m    893\u001b[0m             results[i] \u001b[38;5;241m=\u001b[39m results[i]\u001b[38;5;241m.\u001b[39mcopy(deep\u001b[38;5;241m=\u001b[39m\u001b[38;5;28;01mFalse\u001b[39;00m)\n",
      "Cell \u001b[0;32mIn [89], line 1\u001b[0m, in \u001b[0;36m<lambda>\u001b[0;34m(x)\u001b[0m\n\u001b[0;32m----> 1\u001b[0m data_base[\u001b[38;5;124m'\u001b[39m\u001b[38;5;124mSuperficie_INSEE\u001b[39m\u001b[38;5;124m'\u001b[39m]\u001b[38;5;241m=\u001b[39mdata_base[\u001b[38;5;124m'\u001b[39m\u001b[38;5;124mSuperficie_INSEE\u001b[39m\u001b[38;5;124m'\u001b[39m]\u001b[38;5;241m.\u001b[39mapply(\u001b[38;5;28;01mlambda\u001b[39;00m x: \u001b[43mx\u001b[49m\u001b[38;5;241;43m.\u001b[39;49m\u001b[43msplit\u001b[49m(sep\u001b[38;5;241m=\u001b[39m\u001b[38;5;124m\"\u001b[39m\u001b[38;5;124m[\u001b[39m\u001b[38;5;124m\"\u001b[39m)[\u001b[38;5;241m0\u001b[39m])\n\u001b[1;32m      2\u001b[0m data_base\u001b[38;5;241m.\u001b[39mhead()\n",
      "File \u001b[0;32m/opt/mamba/lib/python3.10/site-packages/pandas/core/generic.py:5902\u001b[0m, in \u001b[0;36mNDFrame.__getattr__\u001b[0;34m(self, name)\u001b[0m\n\u001b[1;32m   5895\u001b[0m \u001b[38;5;28;01mif\u001b[39;00m (\n\u001b[1;32m   5896\u001b[0m     name \u001b[38;5;129;01mnot\u001b[39;00m \u001b[38;5;129;01min\u001b[39;00m \u001b[38;5;28mself\u001b[39m\u001b[38;5;241m.\u001b[39m_internal_names_set\n\u001b[1;32m   5897\u001b[0m     \u001b[38;5;129;01mand\u001b[39;00m name \u001b[38;5;129;01mnot\u001b[39;00m \u001b[38;5;129;01min\u001b[39;00m \u001b[38;5;28mself\u001b[39m\u001b[38;5;241m.\u001b[39m_metadata\n\u001b[1;32m   5898\u001b[0m     \u001b[38;5;129;01mand\u001b[39;00m name \u001b[38;5;129;01mnot\u001b[39;00m \u001b[38;5;129;01min\u001b[39;00m \u001b[38;5;28mself\u001b[39m\u001b[38;5;241m.\u001b[39m_accessors\n\u001b[1;32m   5899\u001b[0m     \u001b[38;5;129;01mand\u001b[39;00m \u001b[38;5;28mself\u001b[39m\u001b[38;5;241m.\u001b[39m_info_axis\u001b[38;5;241m.\u001b[39m_can_hold_identifiers_and_holds_name(name)\n\u001b[1;32m   5900\u001b[0m ):\n\u001b[1;32m   5901\u001b[0m     \u001b[38;5;28;01mreturn\u001b[39;00m \u001b[38;5;28mself\u001b[39m[name]\n\u001b[0;32m-> 5902\u001b[0m \u001b[38;5;28;01mreturn\u001b[39;00m \u001b[38;5;28;43mobject\u001b[39;49m\u001b[38;5;241;43m.\u001b[39;49m\u001b[38;5;21;43m__getattribute__\u001b[39;49m\u001b[43m(\u001b[49m\u001b[38;5;28;43mself\u001b[39;49m\u001b[43m,\u001b[49m\u001b[43m \u001b[49m\u001b[43mname\u001b[49m\u001b[43m)\u001b[49m\n",
      "\u001b[0;31mAttributeError\u001b[0m: 'Series' object has no attribute 'split'"
     ]
    }
   ],
   "source": [
    "data_base['Superficie_INSEE']=data_base['Superficie_INSEE'].apply(lambda x: x.split(sep=\"[\")[0])\n",
    "data_base.astype({'Superficie_INSEE':np.float64})\n",
    "data_base.head()"
   ]
  },
  {
   "cell_type": "code",
   "execution_count": null,
   "id": "b915a922-a044-41fb-9c2a-534a18894d82",
   "metadata": {},
   "outputs": [],
   "source": []
  },
  {
   "cell_type": "code",
   "execution_count": null,
   "id": "191a6998-8f41-4a2d-8918-5f51adef38bb",
   "metadata": {},
   "outputs": [],
   "source": [
    "import plotly\n",
    "import plotly.express as px\n",
    "from IPython.display import HTML #pour afficher les graphs"
   ]
  },
  {
   "cell_type": "code",
   "execution_count": null,
   "id": "93ee241f-86ff-4d13-b18c-a229d865cdec",
   "metadata": {},
   "outputs": [],
   "source": [
    "import pandas as pd\n",
    "\n",
    "equipements = pd.read_csv(\"https://minio.lab.sspcloud.fr/juleschpn/equipments.csv\", sep=';', encoding='latin-1', low_memory=False)\n",
    "equipements.head()"
   ]
  },
  {
   "cell_type": "code",
   "execution_count": null,
   "id": "d598e70a-18ef-4979-9280-9333010beb3d",
   "metadata": {},
   "outputs": [],
   "source": [
    "## Graphique 1 : Les 10 sports \n",
    "df1 = equipements.groupby('EquipementTypeLib')['DepCode'].count()\n",
    "df1=df1.reset_index()\n",
    "df1=df1.rename(columns={'EquipementTypeLib':'Type','DepCode':'Nombre'})\n",
    "df1.sort_values('Nombre', ascending=False).head(10)"
   ]
  },
  {
   "cell_type": "code",
   "execution_count": null,
   "id": "c0cbd6f1-28b5-4c4e-a7ed-525b68cbd5a2",
   "metadata": {},
   "outputs": [],
   "source": [
    "# 1. Diagramme en bâtons\n",
    "fig = px.bar(df1.sort_values('Nombre', ascending=False).head(10).sort_values('Nombre', ascending=True), orientation='h', x='Nombre',\n",
    "             y='Type', color_discrete_sequence=[\"red\"], template=\"plotly_white\")\n",
    "\n",
    "fig.update_layout(\n",
    "    title='Représentation de la répartition du nombre d’infrastructures sportives en fonction de la catégorie sportive',\n",
    "    xaxis_title='Comptage des différents centres sportifs par type de sport')\n",
    "fig.update_xaxes(title_font=dict(color='red'))"
   ]
  },
  {
   "cell_type": "markdown",
   "id": "89c76df5-6ca5-406c-bdca-53e9a977597f",
   "metadata": {},
   "source": [
    "Introduction:\n",
    "La France compte plus de 320 000 équipements sportifs de proximité (gymnase, bassins aquatiques, terrains de sport, city stades…) soit en moyenne 47 équipements pour 10 000 habitants (hors sports de nature et pistes cyclables) selon une étude de 2020 menée par l’Union Sport & Cycle. Dans un contexte de multiplication des infrastructures sportives en vue de la construction d’infrastructures adaptées aux exigences des disciplines sportives (surtout à haut niveau), les attentes d’une modernisation des équipements sportifs dans les communes sont toujours plus fortes (65% des pratiquants expriment le souhait d’avoir davantage d’équipements sportifs, selon la même étude citée précédemment). A travers ce projet Python, nous allons donc tenter d’identifier des caractéristiques corrélatives reliant infrastructures sportives et pratique sportive de haut niveau.\n",
    "Il s’agit dès lors de répondre à la problématique suivante: dans quelle mesure la répartition des infrastructures sportives sur le territoire français impacte-t-elle la pratique du sport de haut niveau à l’échelle départementale ?\n",
    "Dans un  souci de clarté et de respect des consignes, nous avons fait le choix de décliner notre réflexion en trois parties organisées de la façon suivante: dans un premier temps, l’approche consistera à sélectionner et à nettoyer les données pour être en mesure par la suite de construire des statistiques descriptives sur la répartition des équipements sportives par ville. Dans un second temps, le but sera de mesurer les déséquilibres territoriaux de la répartition des infrastructures sportives grâce à des supports cartographiques permettant une data visualisation. Enfin, nous avons décidé de clôturer notre projet sur une touche plus personnelle dans une troisième partie qui combine modélisation et analyse descriptive sur les possibles performances des athlètes lors des Jeux Olympiques de Paris en 2024.\n",
    "\n",
    "\n",
    "\n",
    "\n",
    "\n",
    "\n",
    "\n",
    "\n",
    "\n",
    "\n",
    "\n",
    "I) Sélection et nettoyage des données / Statistiques descriptives\n",
    "Dans cette première partie, l’accent est mis sur la sélection ainsi que le nettoyage des données. Ainsi, le but est ici d’exploiter et d’organiser les différentes données récoltées sur DataGouv, la plateforme officielle de diffusion de données publiques de l'État français. Par ailleurs, l’ajout de statistiques descriptives permet de vérifier la pertinence ainsi que l’exhaustivité des données qui vont être utilisées pour la suite du projet.\n",
    "Première approche : stat descriptives sur le nombre d’infrastructures + sur les athlètes (moyenne, min, max)\n",
    "Recherche de l’échelle adéquate\n",
    "II) Déséquilibres territoriaux de la répartition des infrastructures sportives\n",
    "Dans cette seconde partie, l’accent est mis sur la visualisation des données à l’échelle nationale, permettant ainsi de montrer concrètement la façon dont les infrastructures sportives sont réparties en France. Cela permet ainsi de représenter les éventuels déséquilibres territoriaux de cette répartition contribuant ainsi à expliquer l’impact potentiel de la pratique du sport à haut niveau selon les départements.\n",
    "Data visualisation : carte de la France avec la répartition des différents centres/complexes sportifs à l’échelle départementale (geopanda)\n",
    "Construction d’un diagramme en bâtons: répartition du type d’infrastructures sportives (colonne \"Equipement TypeLib\") en fonction de leur nombre pour avoir une idée de l’importance donnée par les collectivités pour chaque sport, reflétant ainsi la demande française en matière de sport\n",
    "Représentation sur la carte des athlètes selon leur niveau (élite, espoir, senior…) pour chaque sport et par département (diagramme) puis comparer avec les données de géolocalisation de la carte\n",
    "But de la partie: trouver une corrélation entre espoirs français/sport et répartition des infrastructures\n",
    "III) Modélisation & Prédictions à l’horizon 2024\n",
    "Dans cette troisième et dernière partie, l’accent est mis sur la modélisation et la prédiction de de performances sportives en vue des Jeux Olympiques de 2024 à Paris. A l’aide de la méthode dite de \"Web Scraping\", la finalité recherchée est ici de trouver une éventuelle corrélation entre l’investissement dans de nouvelles infrastructures sportives et les résultats des athlètes français aux derniers JO du XXIème siècle pour pronostiquer les possibles performances de certains athlètes français aux prochains Jeux Olympiques.\n",
    "\n",
    "Lien Web Scraping: France aux Jeux olympiques — Wikipédia (wikipedia.org)\n",
    "BUT: Trouver une éventuelle corrélation (i.e. régression linéaire) entre l’investissement dans de nouvelles infrastructures sportives et les résultats des athlètes français aux derniers JO du XXIème siècle (prendre en compte la date de création des infrastructures (CF. doc Excel pour variable « EquAnneeService »)\n",
    "\n",
    "\n",
    "\n",
    "Conclusion:\n",
    "Tout au long de ce projet, nous avons eu recours à divers méthodes (sélection et nettoyage des données, data visualisation, web scraping, modélisations et analyses prédictives par régression linéaire) pour être en mesure de répondre à la problématique initialement posée, à savoir si la répartition des infrastructures sportives sur le territoire français a un quelconque impact sur la pratique du sport de haut niveau à l’échelle départementale. Il semblerait que l’on puisse désormais raisonnablement répondre que cela soit le cas, en évitant toutefois de rentrer dans des considérations approximatives dans la mesure où nous nous avons fait le choix de nous attarder sur certaines variables plutôt que d’autres, et qu’il y a par conséquent un biais qui apparaît de facto.\n",
    "La dernière partie permet de rajouter à notre projet une touche d’originalité et montre que notre projet s’inscrit dans l’actualité sportive en vue des prochains Jeux Olympiques. En effet, selon une étude de 2020 menée par l’Union Sport & Cycle, le développement des nouveaux équipements sportifs de proximité fait l’objet d’un soutien de l’Etat à hauteur de 10 millions d’euros annoncé en 2017. Dans le cadre de la candidature de Paris aux Jeux Olympiques et Paralympiques 2024, ces 10 millions d’euros serviront à financer, au côté des collectivités, de nouvelles infrastructures sportives de proximité. Ces participations de financement étatique semblent avoir fait leurs preuves sur le long terme; il reste désormais à savoir si ce nouvel investissement de la part du gouvernement se concrétisera par des résultats sportifs à la hauteur des attentes en 2024.\n",
    "Alors pour savoir si nos prédictions sont justes, nous vous donnons rendez-vous en 2024!\n"
   ]
  },
  {
   "cell_type": "code",
   "execution_count": null,
   "id": "5decc527-9c66-4a3f-8473-06c3e6a7b8b7",
   "metadata": {},
   "outputs": [],
   "source": []
  },
  {
   "cell_type": "code",
   "execution_count": null,
   "id": "9eaf6974-2e9d-46e9-8cab-1a666f43414f",
   "metadata": {},
   "outputs": [],
   "source": [
    "licences = pd.read_csv(\"https://minio.lab.sspcloud.fr/juleschpn/Licences.csv\", sep=';', encoding='latin-1', low_memory=False)\n",
    "licences.head()"
   ]
  },
  {
   "cell_type": "code",
   "execution_count": null,
   "id": "59c98cdb-7f4f-40e3-91e7-f1986293e8f8",
   "metadata": {},
   "outputs": [],
   "source": []
  },
  {
   "cell_type": "code",
   "execution_count": null,
   "id": "24a31e8a-8681-494d-b113-c680d24665a8",
   "metadata": {},
   "outputs": [],
   "source": []
  },
  {
   "cell_type": "code",
   "execution_count": null,
   "id": "65c52289-7e5e-4488-a865-cba50ada6b07",
   "metadata": {},
   "outputs": [],
   "source": [
    "!pip install pandas fiona shapely pyproj rtree # à faire obligatoirement en premier pour utiliser rtree ou pygeos pour les jointures spatiales\n",
    "!pip install contextily\n",
    "!pip install geopandas\n",
    "!pip install geoplot"
   ]
  },
  {
   "cell_type": "code",
   "execution_count": null,
   "id": "1c0478ba-f3be-42ef-b265-3bede1a38bf4",
   "metadata": {},
   "outputs": [],
   "source": [
    "import pandas as pd\n",
    "import geopandas as gpd\n",
    "import contextily as ctx\n",
    "import matplotlib.pyplot as plt\n",
    "import folium\n",
    "import numpy as np\n",
    "import math"
   ]
  },
  {
   "cell_type": "code",
   "execution_count": null,
   "id": "d68bf289-1441-4e4e-a90e-3f5d5945e3d5",
   "metadata": {},
   "outputs": [],
   "source": [
    "# D'abord, trouver le centre de la carte par la moyenne. Ici, nous enlevons les départements d'outre-mer.\n",
    "eq_tests = equipements.copy()\n",
    "eq_tests['NumDepCode'] = np.where((eq_tests['DepCode'].isin(['2A','2B'])) , 20, eq_tests['DepCode'])\n",
    "\n",
    "eq_tests['NumDepCode'] = pd.to_numeric(eq_tests['NumDepCode'])\n",
    "eq_tests[eq_tests['NumDepCode'] <= 95].count()"
   ]
  },
  {
   "cell_type": "code",
   "execution_count": null,
   "id": "1cea87a4-a0f7-4d9e-b84a-706b3bbd74ba",
   "metadata": {},
   "outputs": [],
   "source": [
    "## Ici, je convertis les colonnes longitudes et lattitudes qui sont des strings en numerics \n",
    "eq_metro = eq_tests[eq_tests['NumDepCode'] <= 95]\n",
    "center = pd.DataFrame({'lat' : eq_metro['EquGPSY'],'lon' : eq_metro['EquGPSX']})\n",
    "center['lat'] = pd.to_numeric(center['lat'].str.replace(\",\", \".\"))\n",
    "center['lon'] = pd.to_numeric(center['lon'].str.replace(\",\", \".\"))\n",
    "center[center['lat'] > 51] #petit imprévu : les coordonées sont sensées être entrées en WGS84 mais des fautes de frappes/erreurs de format se sont glissées comme ici la ligne 16582 qui est omet les degrés (43, 6) et ne précise que les minutes d'arcs"
   ]
  },
  {
   "cell_type": "code",
   "execution_count": null,
   "id": "aa9c1b02-57f7-4497-9472-97d0e08ee093",
   "metadata": {},
   "outputs": [],
   "source": [
    "#Ici nous supprimons les lignes \"défectueuses\" (points extrêmes :51° 05′ 21″ N,41° 19′ N, 5° 09′ 04″ O, 9° 33′ 36″ E)\n",
    "\n",
    "mapable = center.loc[(center['lat'] < 52 ) & (center['lat'] > 41) & (center['lon'] > -5.15) & (center['lon'] < 9.55)]\n",
    "eqnoms = mapable.join(eq_metro['EquNom'])"
   ]
  },
  {
   "cell_type": "code",
   "execution_count": null,
   "id": "db6a1bb0-10a0-43fb-a361-a48ba494eaaa",
   "metadata": {},
   "outputs": [],
   "source": [
    "map_center = mapable.mean(0).values.tolist()\n",
    "map_center\n",
    "\n",
    "#The result isn't this far from the center computed by the IGN in 1993 which sets the center at 46° 32′ 23″ N, 2° 25′ 49″ E."
   ]
  },
  {
   "cell_type": "code",
   "execution_count": null,
   "id": "7fbaf185-87ae-4a20-983b-dfd666f3aa03",
   "metadata": {},
   "outputs": [],
   "source": [
    "ne = mapable.min().values.tolist()\n",
    "so = mapable.max().values.tolist()\n",
    "\n",
    "print(ne, so)"
   ]
  },
  {
   "cell_type": "code",
   "execution_count": null,
   "id": "9008d987-c8d2-4f31-b897-3dfdd8cce1dd",
   "metadata": {},
   "outputs": [],
   "source": [
    "# 2. Carte interactive\n",
    "from pathlib import Path\n",
    "Path(\"leaflet\").mkdir(parents=True, exist_ok=True)\n",
    "m = folium.Map(location = map_center, tiles='Stamen Toner')\n",
    "\n",
    "# Ajout des markers 1 à 1 sur la carte\n",
    "indices_list = mapable.sample(300).index.tolist() #Je n'en affiche que 300 pour des raisons de lisibilité\n",
    "for i in indices_list:\n",
    "    folium.Marker([mapable.loc[i]['lat'], mapable.loc[i]['lon']], popup=eqnoms.loc[i]['EquNom']).add_to(m)\n",
    "m.fit_bounds([so, ne])\n",
    "m"
   ]
  }
 ],
 "metadata": {
  "kernelspec": {
   "display_name": "Python 3 (ipykernel)",
   "language": "python",
   "name": "python3"
  },
  "language_info": {
   "codemirror_mode": {
    "name": "ipython",
    "version": 3
   },
   "file_extension": ".py",
   "mimetype": "text/x-python",
   "name": "python",
   "nbconvert_exporter": "python",
   "pygments_lexer": "ipython3",
   "version": "3.10.4"
  }
 },
 "nbformat": 4,
 "nbformat_minor": 5
}
